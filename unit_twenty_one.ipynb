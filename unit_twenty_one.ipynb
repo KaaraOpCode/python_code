{
 "cells": [
  {
   "cell_type": "markdown",
   "metadata": {},
   "source": [
    "UNIT 21 - CLASSES\n",
    "Constructors Analogy\n",
    "State Analogy"
   ]
  },
  {
   "cell_type": "markdown",
   "metadata": {},
   "source": [
    "Classes in object-oriented programming can be classified based on various criteria, such as the presence and type of constructors, whether they maintain state(instance variables keep their own data) , and the kind of functionality they provide. Here’s a classification based on the provided criteria:"
   ]
  },
  {
   "cell_type": "markdown",
   "metadata": {},
   "source": [
    "1. No Argument Constructors: \n",
    "    > Implicit No Argument Constructor"
   ]
  },
  {
   "cell_type": "code",
   "execution_count": 1,
   "metadata": {},
   "outputs": [
    {
     "name": "stdout",
     "output_type": "stream",
     "text": [
      "Hello!\n"
     ]
    }
   ],
   "source": [
    "class Example:\n",
    "    def greet(self):\n",
    "        print(\"Hello!\")\n",
    "test = Example()\n",
    "test.greet()"
   ]
  },
  {
   "cell_type": "markdown",
   "metadata": {},
   "source": [
    "> Explicit No Argument Constructor"
   ]
  },
  {
   "cell_type": "code",
   "execution_count": 19,
   "metadata": {},
   "outputs": [
    {
     "name": "stdout",
     "output_type": "stream",
     "text": [
      "Hello! 2\n"
     ]
    }
   ],
   "source": [
    "class Example:\n",
    "    def __init__(self):\n",
    "        pass\n",
    "    def greet(self):\n",
    "        print(\"Hello! Kaara\")\n",
    "test = Example()\n",
    "test.greet()"
   ]
  },
  {
   "cell_type": "markdown",
   "metadata": {},
   "source": [
    "2. Argument Constructors\n",
    "    Explicit Argument Constructors"
   ]
  },
  {
   "cell_type": "code",
   "execution_count": 21,
   "metadata": {},
   "outputs": [
    {
     "name": "stdout",
     "output_type": "stream",
     "text": [
      "Hello, Kaara!\n"
     ]
    }
   ],
   "source": [
    "class Example:\n",
    "    def __init__(self, name):\n",
    "        self.name = name\n",
    "    def greet(self):\n",
    "        print(f\"Hello, {self.name}!\")\n",
    "name = 'Kaara'\n",
    "test = Example(name)\n",
    "test.greet()"
   ]
  },
  {
   "cell_type": "markdown",
   "metadata": {},
   "source": [
    " Stateless Classes : \n",
    " These classes do not maintain any internal state. They typically do not have instance variables and often only have methods."
   ]
  },
  {
   "cell_type": "code",
   "execution_count": 22,
   "metadata": {},
   "outputs": [
    {
     "data": {
      "text/plain": [
       "3"
      ]
     },
     "execution_count": 22,
     "metadata": {},
     "output_type": "execute_result"
    }
   ],
   "source": [
    "class Utility:\n",
    "    def add(self, x, y):\n",
    "        return x + y\n",
    "test = Utility()\n",
    "a,b = 1,2\n",
    "test.add(a,b)"
   ]
  },
  {
   "cell_type": "markdown",
   "metadata": {},
   "source": [
    "Stateful Classes : \n",
    "These classes maintain an internal state using instance variables. The state can change based on the methods called on the instance."
   ]
  },
  {
   "cell_type": "code",
   "execution_count": 27,
   "metadata": {},
   "outputs": [
    {
     "name": "stdout",
     "output_type": "stream",
     "text": [
      "22\n"
     ]
    }
   ],
   "source": [
    "class Person:\n",
    "    def __init__(self, name, age):\n",
    "        self.name = name\n",
    "        self.age = age\n",
    "    def birthday(self):\n",
    "        self.age += 1\n",
    "\n",
    "test = Person('Kaara', 21)\n",
    "test.birthday()\n",
    "print(test.age)"
   ]
  },
  {
   "cell_type": "markdown",
   "metadata": {},
   "source": [
    "Controlled Access\n",
    "Public Attributes:"
   ]
  },
  {
   "cell_type": "code",
   "execution_count": null,
   "metadata": {},
   "outputs": [],
   "source": [
    "class Person:\n",
    "    def __init__(self, name, age):\n",
    "        self.name = name  # Public attribute\n",
    "        self.age = age    # Public attribute\n",
    "\n",
    "p1 = Person(\"Alice\", 30)\n",
    "print(p1.name)  # Output: Alice\n",
    "print(p1.age)   # Output: 30\n"
   ]
  },
  {
   "cell_type": "markdown",
   "metadata": {},
   "source": [
    "Protected Attributes"
   ]
  },
  {
   "cell_type": "code",
   "execution_count": null,
   "metadata": {},
   "outputs": [],
   "source": [
    "class Person:\n",
    "    def __init__(self, name, age):\n",
    "        self._name = name  # Protected attribute\n",
    "        self._age = age    # Protected attribute\n",
    "\n",
    "    def display(self):\n",
    "        print(f\"Name: {self._name}, Age: {self._age}\")\n",
    "\n",
    "class Employee(Person):\n",
    "    def __init__(self, name, age, salary):\n",
    "        super().__init__(name, age)\n",
    "        self._salary = salary  # Protected attribute specific to Employee\n",
    "\n",
    "    def display(self):\n",
    "        super().display()\n",
    "        print(f\"Salary: {self._salary}\")\n",
    "\n",
    "p1 = Employee(\"Bob\", 25, 50000)\n",
    "p1.display()\n",
    "# Output:\n",
    "# Name: Bob, Age: 25\n",
    "# Salary: 50000\n",
    "\n",
    "print(p1._name)  # Accessed within the class or subclass, but should be avoided\n",
    "print(p1._salary)  # Accessed within the subclass\n"
   ]
  },
  {
   "cell_type": "markdown",
   "metadata": {},
   "source": [
    "Private Attributes"
   ]
  },
  {
   "cell_type": "code",
   "execution_count": null,
   "metadata": {},
   "outputs": [],
   "source": [
    "class Person:\n",
    "    def __init__(self, name, age):\n",
    "        self.__name = name  # Private attribute\n",
    "        self.__age = age    # Private attribute\n",
    "\n",
    "    def display(self):\n",
    "        print(f\"Name: {self.__name}, Age: {self.__age}\")\n",
    "\n",
    "    def _get_name(self):  # Method to access private attribute\n",
    "        return self.__name\n",
    "\n",
    "p1 = Person(\"Alice\", 30)\n",
    "p1.display()\n",
    "# Output: Name: Alice, Age: 30\n",
    "\n",
    "# Attempt to access private attribute outside the class\n",
    "try:\n",
    "    print(p1.__name)  # AttributeError: 'Person' object has no attribute '__name'\n",
    "except AttributeError as e:\n",
    "    print(e)\n",
    "\n",
    "print(p1._get_name())  # Correct way to access private attribute via method\n"
   ]
  },
  {
   "cell_type": "markdown",
   "metadata": {},
   "source": [
    "Instance Variables and Class Variables"
   ]
  },
  {
   "cell_type": "code",
   "execution_count": 28,
   "metadata": {},
   "outputs": [
    {
     "name": "stdout",
     "output_type": "stream",
     "text": [
      "Alice\n",
      "25\n",
      "Homo sapiens\n",
      "Name: Alice, Age: 30, Species: Homo sapiens\n",
      "Name: Bob, Age: 25, Species: Homo sapiens\n"
     ]
    }
   ],
   "source": [
    "class Person:\n",
    "    species = \"Homo sapiens\"  # Class variable\n",
    "\n",
    "    def __init__(self, name, age):\n",
    "        self.name = name        # Instance variable\n",
    "        self.age = age          # Instance variable\n",
    "\n",
    "    def display(self):\n",
    "        print(f\"Name: {self.name}, Age: {self.age}, Species: {Person.species}\")\n",
    "\n",
    "# Creating instances\n",
    "p1 = Person(\"Alice\", 30)\n",
    "p2 = Person(\"Bob\", 25)\n",
    "\n",
    "# Accessing variables\n",
    "print(p1.name)       # Output: Alice\n",
    "print(p2.age)        # Output: 25\n",
    "print(Person.species) # Output: Homo sapiens\n",
    "\n",
    "# Display using method\n",
    "p1.display()        # Output: Name: Alice, Age: 30, Species: Homo sapiens\n",
    "p2.display()        # Output: Name: Bob, Age: 25, Species: Homo sapiens\n"
   ]
  },
  {
   "cell_type": "markdown",
   "metadata": {},
   "source": [
    "Setters - Update instance attribute data\n",
    "Getters - Get or retrieve instance attribute data"
   ]
  },
  {
   "cell_type": "code",
   "execution_count": 29,
   "metadata": {},
   "outputs": [
    {
     "name": "stdout",
     "output_type": "stream",
     "text": [
      "Alice\n",
      "30\n",
      "Bob\n",
      "35\n",
      "Age must be positive\n"
     ]
    }
   ],
   "source": [
    "class Person:\n",
    "    def __init__(self, name, age):\n",
    "        self.__name = name  # Private attribute\n",
    "        self.__age = age    # Private attribute\n",
    "\n",
    "    # Getter for name\n",
    "    def get_name(self):\n",
    "        return self.__name\n",
    "\n",
    "    # Setter for name\n",
    "    def set_name(self, name):\n",
    "        self.__name = name\n",
    "\n",
    "    # Getter for age\n",
    "    def get_age(self):\n",
    "        return self.__age\n",
    "\n",
    "    # Setter for age\n",
    "    def set_age(self, age):\n",
    "        if age > 0:  # Validation example\n",
    "            self.__age = age\n",
    "        else:\n",
    "            print(\"Age must be positive\")\n",
    "\n",
    "# Create an instance of Person\n",
    "person = Person(\"Alice\", 30)\n",
    "\n",
    "# Use getters to access private attributes\n",
    "print(person.get_name())  # Output: Alice\n",
    "print(person.get_age())   # Output: 30\n",
    "\n",
    "# Use setters to modify private attributes\n",
    "person.set_name(\"Bob\")\n",
    "person.set_age(35)\n",
    "\n",
    "print(person.get_name())  # Output: Bob\n",
    "print(person.get_age())   # Output: 35\n",
    "\n",
    "# Attempt to set an invalid age\n",
    "person.set_age(-5)        # Output: Age must be positive\n"
   ]
  },
  {
   "cell_type": "markdown",
   "metadata": {},
   "source": [
    "__dict__ \n",
    "- Used to access the internal dictionary of an object's attributes\n",
    "- This dictionary contains all the instance variables (attributes) and their current values for that specific object.\n",
    "- The __dict__ method is a powerful tool for introspection, allowing you to interact with an object's internal state -  directly."
   ]
  },
  {
   "cell_type": "code",
   "execution_count": 37,
   "metadata": {},
   "outputs": [
    {
     "name": "stdout",
     "output_type": "stream",
     "text": [
      "[]\n"
     ]
    }
   ],
   "source": [
    "class Person:\n",
    "    def __init__(self, name, age):\n",
    "        self.name = name\n",
    "        self.age = age\n",
    "\n",
    "# Create multiple instances of Person\n",
    "person1 = Person(\"Alice\", 30)\n",
    "person2 = Person(\"Bob\", 25)\n",
    "person3 = Person(\"Charlie\", 35)\n",
    "person4 = Person(\"Diana\", 28)\n",
    "person5 = Person(\"Eve\", 40)\n",
    "\n",
    "# Access the personal inventory list (attributes and values) using __dict__\n",
    "person1_attributes = person1.__dict__\n",
    "person2_attributes = person2.__dict__\n",
    "person3_attributes = person3.__dict__\n",
    "person4_attributes = person4.__dict__\n",
    "person5_attributes = person5.__dict__\n",
    "\n",
    "# Store the dictionaries in a list\n",
    "attributes_list = [\n",
    "    person1_attributes,\n",
    "    person2_attributes,\n",
    "    person3_attributes,\n",
    "    person4_attributes,\n",
    "    person5_attributes\n",
    "]\n",
    "\n",
    "# Retrieve persons with age in twenties\n",
    "persons_in_twenties = [person for person in attributes_list if 20 <= person['age'] <= 29]\n",
    "\n",
    "# Print the result\n",
    "print(persons_in_twenties)\n"
   ]
  }
 ],
 "metadata": {
  "kernelspec": {
   "display_name": "Python 3",
   "language": "python",
   "name": "python3"
  },
  "language_info": {
   "codemirror_mode": {
    "name": "ipython",
    "version": 3
   },
   "file_extension": ".py",
   "mimetype": "text/x-python",
   "name": "python",
   "nbconvert_exporter": "python",
   "pygments_lexer": "ipython3",
   "version": "3.12.3"
  }
 },
 "nbformat": 4,
 "nbformat_minor": 2
}
