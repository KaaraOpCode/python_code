{
 "cells": [
  {
   "cell_type": "markdown",
   "metadata": {},
   "source": [
    "UNIT 21 - CLASSES\n",
    "Constructors Analogy\n",
    "State Analogy"
   ]
  },
  {
   "cell_type": "markdown",
   "metadata": {},
   "source": [
    "Classes in object-oriented programming can be classified based on various criteria, such as the presence and type of constructors, whether they maintain state(instance variables keep their own data) , and the kind of functionality they provide. Here’s a classification based on the provided criteria:"
   ]
  },
  {
   "cell_type": "markdown",
   "metadata": {},
   "source": [
    "1. No Argument Constructors: \n",
    "    > Implicit No Argument Constructor"
   ]
  },
  {
   "cell_type": "code",
   "execution_count": 1,
   "metadata": {},
   "outputs": [
    {
     "name": "stdout",
     "output_type": "stream",
     "text": [
      "Hello!\n"
     ]
    }
   ],
   "source": [
    "class Example:\n",
    "    def greet(self):\n",
    "        print(\"Hello!\")\n",
    "test = Example()\n",
    "test.greet()"
   ]
  },
  {
   "cell_type": "markdown",
   "metadata": {},
   "source": [
    "> Explicit No Argument Constructor"
   ]
  },
  {
   "cell_type": "code",
   "execution_count": 19,
   "metadata": {},
   "outputs": [
    {
     "name": "stdout",
     "output_type": "stream",
     "text": [
      "Hello! 2\n"
     ]
    }
   ],
   "source": [
    "class Example:\n",
    "    def __init__(self):\n",
    "        pass\n",
    "    def greet(self):\n",
    "        print(\"Hello! Kaara\")\n",
    "test = Example()\n",
    "test.greet()"
   ]
  },
  {
   "cell_type": "markdown",
   "metadata": {},
   "source": [
    "2. Argument Constructors\n",
    "    Explicit Argument Constructors"
   ]
  },
  {
   "cell_type": "code",
   "execution_count": 21,
   "metadata": {},
   "outputs": [
    {
     "name": "stdout",
     "output_type": "stream",
     "text": [
      "Hello, Kaara!\n"
     ]
    }
   ],
   "source": [
    "class Example:\n",
    "    def __init__(self, name):\n",
    "        self.name = name\n",
    "    def greet(self):\n",
    "        print(f\"Hello, {self.name}!\")\n",
    "name = 'Kaara'\n",
    "test = Example(name)\n",
    "test.greet()"
   ]
  },
  {
   "cell_type": "markdown",
   "metadata": {},
   "source": [
    " Stateless Classes : \n",
    " These classes do not maintain any internal state. They typically do not have instance variables and often only have methods."
   ]
  },
  {
   "cell_type": "code",
   "execution_count": 22,
   "metadata": {},
   "outputs": [
    {
     "data": {
      "text/plain": [
       "3"
      ]
     },
     "execution_count": 22,
     "metadata": {},
     "output_type": "execute_result"
    }
   ],
   "source": [
    "class Utility:\n",
    "    def add(self, x, y):\n",
    "        return x + y\n",
    "test = Utility()\n",
    "a,b = 1,2\n",
    "test.add(a,b)"
   ]
  },
  {
   "cell_type": "markdown",
   "metadata": {},
   "source": [
    "Stateful Classes : \n",
    "These classes maintain an internal state using instance variables. The state can change based on the methods called on the instance."
   ]
  },
  {
   "cell_type": "code",
   "execution_count": 27,
   "metadata": {},
   "outputs": [
    {
     "name": "stdout",
     "output_type": "stream",
     "text": [
      "22\n"
     ]
    }
   ],
   "source": [
    "class Person:\n",
    "    def __init__(self, name, age):\n",
    "        self.name = name\n",
    "        self.age = age\n",
    "    def birthday(self):\n",
    "        self.age += 1\n",
    "\n",
    "test = Person('Kaara', 21)\n",
    "test.birthday()\n",
    "print(test.age)"
   ]
  },
  {
   "cell_type": "markdown",
   "metadata": {},
   "source": [
    "Controlled Access\n",
    "Public Attributes:"
   ]
  },
  {
   "cell_type": "code",
   "execution_count": null,
   "metadata": {},
   "outputs": [],
   "source": [
    "class Person:\n",
    "    def __init__(self, name, age):\n",
    "        self.name = name  # Public attribute\n",
    "        self.age = age    # Public attribute\n",
    "\n",
    "p1 = Person(\"Alice\", 30)\n",
    "print(p1.name)  # Output: Alice\n",
    "print(p1.age)   # Output: 30\n"
   ]
  },
  {
   "cell_type": "markdown",
   "metadata": {},
   "source": [
    "Protected Attributes"
   ]
  },
  {
   "cell_type": "code",
   "execution_count": null,
   "metadata": {},
   "outputs": [],
   "source": [
    "class Person:\n",
    "    def __init__(self, name, age):\n",
    "        self._name = name  # Protected attribute\n",
    "        self._age = age    # Protected attribute\n",
    "\n",
    "    def display(self):\n",
    "        print(f\"Name: {self._name}, Age: {self._age}\")\n",
    "\n",
    "class Employee(Person):\n",
    "    def __init__(self, name, age, salary):\n",
    "        super().__init__(name, age)\n",
    "        self._salary = salary  # Protected attribute specific to Employee\n",
    "\n",
    "    def display(self):\n",
    "        super().display()\n",
    "        print(f\"Salary: {self._salary}\")\n",
    "\n",
    "p1 = Employee(\"Bob\", 25, 50000)\n",
    "p1.display()\n",
    "# Output:\n",
    "# Name: Bob, Age: 25\n",
    "# Salary: 50000\n",
    "\n",
    "print(p1._name)  # Accessed within the class or subclass, but should be avoided\n",
    "print(p1._salary)  # Accessed within the subclass\n"
   ]
  },
  {
   "cell_type": "markdown",
   "metadata": {},
   "source": [
    "Private Attributes"
   ]
  },
  {
   "cell_type": "code",
   "execution_count": null,
   "metadata": {},
   "outputs": [],
   "source": [
    "class Person:\n",
    "    def __init__(self, name, age):\n",
    "        self.__name = name  # Private attribute\n",
    "        self.__age = age    # Private attribute\n",
    "\n",
    "    def display(self):\n",
    "        print(f\"Name: {self.__name}, Age: {self.__age}\")\n",
    "\n",
    "    def _get_name(self):  # Method to access private attribute\n",
    "        return self.__name\n",
    "\n",
    "p1 = Person(\"Alice\", 30)\n",
    "p1.display()\n",
    "# Output: Name: Alice, Age: 30\n",
    "\n",
    "# Attempt to access private attribute outside the class\n",
    "try:\n",
    "    print(p1.__name)  # AttributeError: 'Person' object has no attribute '__name'\n",
    "except AttributeError as e:\n",
    "    print(e)\n",
    "\n",
    "print(p1._get_name())  # Correct way to access private attribute via method\n"
   ]
  },
  {
   "cell_type": "markdown",
   "metadata": {},
   "source": [
    "Instance Variables and Class Variables"
   ]
  },
  {
   "cell_type": "code",
   "execution_count": 28,
   "metadata": {},
   "outputs": [
    {
     "name": "stdout",
     "output_type": "stream",
     "text": [
      "Alice\n",
      "25\n",
      "Homo sapiens\n",
      "Name: Alice, Age: 30, Species: Homo sapiens\n",
      "Name: Bob, Age: 25, Species: Homo sapiens\n"
     ]
    }
   ],
   "source": [
    "class Person:\n",
    "    species = \"Homo sapiens\"  # Class variable\n",
    "\n",
    "    def __init__(self, name, age):\n",
    "        self.name = name        # Instance variable\n",
    "        self.age = age          # Instance variable\n",
    "\n",
    "    def display(self):\n",
    "        print(f\"Name: {self.name}, Age: {self.age}, Species: {Person.species}\")\n",
    "\n",
    "# Creating instances\n",
    "p1 = Person(\"Alice\", 30)\n",
    "p2 = Person(\"Bob\", 25)\n",
    "\n",
    "# Accessing variables\n",
    "print(p1.name)       # Output: Alice\n",
    "print(p2.age)        # Output: 25\n",
    "print(Person.species) # Output: Homo sapiens\n",
    "\n",
    "# Display using method\n",
    "p1.display()        # Output: Name: Alice, Age: 30, Species: Homo sapiens\n",
    "p2.display()        # Output: Name: Bob, Age: 25, Species: Homo sapiens\n"
   ]
  },
  {
   "cell_type": "markdown",
   "metadata": {},
   "source": [
    "Setters - Update instance attribute data\n",
    "Getters - Get or retrieve instance attribute data"
   ]
  },
  {
   "cell_type": "code",
   "execution_count": 29,
   "metadata": {},
   "outputs": [
    {
     "name": "stdout",
     "output_type": "stream",
     "text": [
      "Alice\n",
      "30\n",
      "Bob\n",
      "35\n",
      "Age must be positive\n"
     ]
    }
   ],
   "source": [
    "class Person:\n",
    "    def __init__(self, name, age):\n",
    "        self.__name = name  # Private attribute\n",
    "        self.__age = age    # Private attribute\n",
    "\n",
    "    # Getter for name\n",
    "    def get_name(self):\n",
    "        return self.__name\n",
    "\n",
    "    # Setter for name\n",
    "    def set_name(self, name):\n",
    "        self.__name = name\n",
    "\n",
    "    # Getter for age\n",
    "    def get_age(self):\n",
    "        return self.__age\n",
    "\n",
    "    # Setter for age\n",
    "    def set_age(self, age):\n",
    "        if age > 0:  # Validation example\n",
    "            self.__age = age\n",
    "        else:\n",
    "            print(\"Age must be positive\")\n",
    "\n",
    "# Create an instance of Person\n",
    "person = Person(\"Alice\", 30)\n",
    "\n",
    "# Use getters to access private attributes\n",
    "print(person.get_name())  # Output: Alice\n",
    "print(person.get_age())   # Output: 30\n",
    "\n",
    "# Use setters to modify private attributes\n",
    "person.set_name(\"Bob\")\n",
    "person.set_age(35)\n",
    "\n",
    "print(person.get_name())  # Output: Bob\n",
    "print(person.get_age())   # Output: 35\n",
    "\n",
    "# Attempt to set an invalid age\n",
    "person.set_age(-5)        # Output: Age must be positive\n"
   ]
  },
  {
   "cell_type": "markdown",
   "metadata": {},
   "source": [
    "__dict__ \n",
    "- Used to access the internal dictionary of an object's attributes\n",
    "- This dictionary contains all the instance variables (attributes) and their current values for that specific object.\n",
    "- The __dict__ method is a powerful tool for introspection, allowing you to interact with an object's internal state -  directly."
   ]
  },
  {
   "cell_type": "code",
   "execution_count": 9,
   "metadata": {},
   "outputs": [
    {
     "name": "stdout",
     "output_type": "stream",
     "text": [
      "[{'name': 'Alice', 'age': 30}, {'name': 'Bob', 'age': 25}, {'name': 'Charlie', 'age': 35}, {'name': 'Diana', 'age': 28}, {'name': 'Eve', 'age': 40}]\n",
      "[{'name': 'Bob', 'age': 25}, {'name': 'Diana', 'age': 28}]\n"
     ]
    }
   ],
   "source": [
    "class Person:\n",
    "    def __init__(self, name, age):\n",
    "        self.name = name\n",
    "        self.age = age\n",
    "\n",
    "# Create multiple instances of Person\n",
    "person1 = Person(\"Alice\", 30)\n",
    "person2 = Person(\"Bob\", 25)\n",
    "person3 = Person(\"Charlie\", 35)\n",
    "person4 = Person(\"Diana\", 28)\n",
    "person5 = Person(\"Eve\", 40)\n",
    "\n",
    "# Access the personal inventory list (attributes and values) using __dict__\n",
    "person1_attributes = person1.__dict__\n",
    "person2_attributes = person2.__dict__\n",
    "person3_attributes = person3.__dict__\n",
    "person4_attributes = person4.__dict__\n",
    "person5_attributes = person5.__dict__\n",
    "\n",
    "# Store the dictionaries in a list\n",
    "attributes_list = [\n",
    "    person1_attributes,\n",
    "    person2_attributes,\n",
    "    person3_attributes,\n",
    "    person4_attributes,\n",
    "    person5_attributes\n",
    "]\n",
    "print(attributes_list)\n",
    "\n",
    "# Retrieve persons with age in twenties\n",
    "persons_in_twenties = [person for person in attributes_list if 20 <= person['age'] <= 29]\n",
    "\n",
    "# Print the result\n",
    "print(persons_in_twenties)\n"
   ]
  },
  {
   "cell_type": "markdown",
   "metadata": {},
   "source": [
    "Class Inheritance"
   ]
  },
  {
   "cell_type": "code",
   "execution_count": null,
   "metadata": {},
   "outputs": [],
   "source": [
    "class A:\n",
    "    pass\n",
    "class B(A):\n",
    "    pass"
   ]
  },
  {
   "cell_type": "markdown",
   "metadata": {},
   "source": [
    "Encapsulation - prevents illogical errors"
   ]
  },
  {
   "cell_type": "code",
   "execution_count": null,
   "metadata": {},
   "outputs": [],
   "source": []
  },
  {
   "cell_type": "markdown",
   "metadata": {},
   "source": [
    "Paper Coding 1"
   ]
  },
  {
   "cell_type": "code",
   "execution_count": 14,
   "metadata": {},
   "outputs": [
    {
     "name": "stdout",
     "output_type": "stream",
     "text": [
      "woof! woof!\n"
     ]
    }
   ],
   "source": [
    "class Dog: \n",
    "    def bark(self):\n",
    "        print(\"woof! woof!\")\n",
    "my_dog= Dog()\n",
    "my_dog.bark()\n"
   ]
  },
  {
   "cell_type": "markdown",
   "metadata": {},
   "source": [
    "Paper Coding 2"
   ]
  },
  {
   "cell_type": "code",
   "execution_count": 25,
   "metadata": {},
   "outputs": [
    {
     "name": "stdout",
     "output_type": "stream",
     "text": [
      "Bingo: woof! woof!\n"
     ]
    }
   ],
   "source": [
    "class Dog:\n",
    "    def __init__(self, name):\n",
    "        self.name = name\n",
    "    def bark(self):\n",
    "        print(f'{self.name}: woof! woof!')\n",
    "        \n",
    "my_dog = Dog(\"Bingo\")\n",
    "my_dog.bark()"
   ]
  },
  {
   "cell_type": "markdown",
   "metadata": {},
   "source": [
    "Pair Programming"
   ]
  },
  {
   "cell_type": "code",
   "execution_count": 10,
   "metadata": {},
   "outputs": [
    {
     "name": "stdout",
     "output_type": "stream",
     "text": [
      "Student name: kaaara\n",
      "Student Id: 222222\n",
      "Quiz Scores: English: 0, Mathematics: 0, Science: 0\n",
      "Student name: kaaara\n",
      "Student Id: 222222\n",
      "Quiz Scores: English: 50, Mathematics: 80, Science: 70\n",
      "Total score: 200\n",
      "Average score: 66.67\n"
     ]
    }
   ],
   "source": [
    "class Student:\n",
    "    def __init__(self, name, student_id):\n",
    "        self._name = name\n",
    "        self._student_id = student_id\n",
    "        self._quiz_scores = {\n",
    "            'English': 0,\n",
    "            'Mathematics': 0,\n",
    "            'Science': 0\n",
    "            }\n",
    "    def set_name(self, name):\n",
    "        self._name = name\n",
    "    \n",
    "    def set_student_id(self, student_id):\n",
    "        self.set_student_id = student_id\n",
    "    \n",
    "    def set_quiz_score(self, subject, score):\n",
    "        if subject in self._quiz_scores:\n",
    "            self._quiz_scores[subject] = score\n",
    "        else:\n",
    "            print('Invalid subject')\n",
    "            \n",
    "    def calculate_total_score(self):\n",
    "        total_score = sum(self._quiz_scores.values())\n",
    "        return total_score\n",
    "    \n",
    "    def calculate_average(self):\n",
    "        average_score = sum(self._quiz_scores.values()) / len(self._quiz_scores)\n",
    "        return average_score\n",
    "    \n",
    "    def __str__(self):\n",
    "        scores_str = ', '.join([f'{subject}: {score}' for subject, score in self._quiz_scores.items()])\n",
    "        return f'Student name: {self._name}\\nStudent Id: {self._student_id}\\nQuiz Scores: {scores_str}'\n",
    "\n",
    "name = input('Enter student name: ')\n",
    "student_id = input('Enter student id:')\n",
    "\n",
    "student = Student(name, student_id)\n",
    "print(student)\n",
    "\n",
    "for subject in student._quiz_scores:\n",
    "    score = int(input(f'Enter {subject} score: '))\n",
    "    student.set_quiz_score(subject, score)\n",
    "    \n",
    "total_score = student.calculate_total_score()\n",
    "average_score = round(student.calculate_average(), 2)\n",
    "\n",
    "print(student)\n",
    "print(f'Total score: {total_score}')\n",
    "print(f'Average score: {average_score}')          "
   ]
  },
  {
   "cell_type": "markdown",
   "metadata": {},
   "source": [
    "Employee Payment System"
   ]
  },
  {
   "cell_type": "code",
   "execution_count": 24,
   "metadata": {},
   "outputs": [
    {
     "name": "stdout",
     "output_type": "stream",
     "text": [
      "Employee ID: 1\n",
      " Name: Kaara\n",
      " Department ID: 1\n",
      " Basic Salary: 50000\n",
      " Address: Lesotho, Maseru, 100\n",
      " Subordinates: 5\n",
      " Performance Bonus: 10000\n",
      " Net Salary: 52000.0\n",
      "\n",
      "Employee ID: 2\n",
      " Name: Thabo\n",
      " Department ID: 3\n",
      " Basic Salary: 20000\n",
      " Address: Lesotho, Leribe, 300\n",
      " Hours Worked: 10\n",
      " Hourly Rate: 100\n",
      " Net Salary: 21000\n",
      "\n",
      "Employee ID: 3\n",
      " Name: Tshepo\n",
      " Department ID: 4\n",
      " Basic Salary: 10000\n",
      " Address: Lesotho, Berea, 200\n",
      " Parts Produced: 10\n",
      " Rate per Part: 100\n",
      " Net Salary: 11000\n",
      "\n"
     ]
    }
   ],
   "source": [
    "class Address:\n",
    "    \n",
    "    def __init__(self, country, city, zip_code):\n",
    "        self.country = country\n",
    "        self.city = city\n",
    "        self.zip_code = zip_code\n",
    "        \n",
    "    def set_country(self, country):\n",
    "        self.country = country\n",
    "        \n",
    "    def set_city(self, city):\n",
    "        self.city = city\n",
    "        \n",
    "    def set_zip_code(self, zip_code):\n",
    "        self.zip_code = zip_code\n",
    "\n",
    "    def __str__(self):\n",
    "        return '{}, {}, {}'.format(self.country, self.city, self.zip_code)\n",
    "\n",
    "class Employee:\n",
    "    \n",
    "    def __init__(self, emp_id, emp_name, emp_dpt_id, emp_basic_salary, emp_address):\n",
    "        self.emp_id = emp_id\n",
    "        self.emp_name = emp_name\n",
    "        self.emp_dpt_id = emp_dpt_id\n",
    "        self.emp_basic_salary = emp_basic_salary\n",
    "        self.emp_address = emp_address\n",
    "    \n",
    "    def set_emp_id(self, emp_id):\n",
    "        self.emp_id = emp_id\n",
    "        \n",
    "    def set_emp_name(self, emp_name):\n",
    "        self.emp_name = emp_name\n",
    "        \n",
    "    def set_emp_dpt_id(self, emp_dpt_id):\n",
    "        self.emp_dpt_id = emp_dpt_id\n",
    "        \n",
    "    def set_emp_basic_salary(self, emp_basic_salary):\n",
    "        self.emp_basic_salary = emp_basic_salary\n",
    "        \n",
    "    def set_emp_address(self, emp_address):\n",
    "        self.emp_address = emp_address\n",
    "\n",
    "    def __str__(self):\n",
    "        return 'Employee ID: {}\\n Name: {}\\n Department ID: {}\\n Basic Salary: {}\\n Address: {}'.format(\n",
    "            self.emp_id, self.emp_name, self.emp_dpt_id, self.emp_basic_salary, self.emp_address)\n",
    "\n",
    "class Manager(Employee):\n",
    "    \n",
    "    def __init__(self, emp_id, emp_name, emp_dpt_id, emp_basic_salary, emp_address, no_of_subordinates, performance_bonus):\n",
    "        super().__init__(emp_id, emp_name, emp_dpt_id, emp_basic_salary, emp_address)\n",
    "        self.no_of_subordinates = no_of_subordinates\n",
    "        self.performance_bonus = performance_bonus\n",
    "        \n",
    "    def set_no_of_subordinates(self, no_of_subordinates):\n",
    "        self.no_of_subordinates = no_of_subordinates\n",
    "        \n",
    "    def set_performance_bonus(self, performance_bonus):\n",
    "        self.performance_bonus = performance_bonus\n",
    "    \n",
    "    def net_salary(self):\n",
    "        return self.emp_basic_salary + (0.2 * self.performance_bonus)\n",
    "    \n",
    "    def __str__(self):\n",
    "        return '{}\\n Subordinates: {}\\n Performance Bonus: {}\\n Net Salary: {}'.format(\n",
    "            Employee.__str__(self), self.no_of_subordinates, self.performance_bonus, self.net_salary())\n",
    "\n",
    "class HourlyEmployee(Employee):\n",
    "    \n",
    "    def __init__(self, emp_id, emp_name, emp_dpt_id, emp_basic_salary, emp_address, hours_worked, hourly_rate):\n",
    "        super().__init__(emp_id, emp_name, emp_dpt_id, emp_basic_salary, emp_address)\n",
    "        self.hours_worked = hours_worked\n",
    "        self.hourly_rate = hourly_rate\n",
    "        \n",
    "    def set_hours_worked(self, hours_worked):\n",
    "        self.hours_worked = hours_worked\n",
    "        \n",
    "    def set_hourly_rate(self, hourly_rate):\n",
    "        self.hourly_rate = hourly_rate\n",
    "        \n",
    "    def net_salary(self):\n",
    "        return self.emp_basic_salary + (self.hours_worked * self.hourly_rate)\n",
    "    \n",
    "    def __str__(self):\n",
    "        return '{}\\n Hours Worked: {}\\n Hourly Rate: {}\\n Net Salary: {}'.format(\n",
    "            Employee.__str__(self), self.hours_worked, self.hourly_rate, self.net_salary())\n",
    "\n",
    "class PieceWorker(Employee):\n",
    "    \n",
    "    def __init__(self, emp_id, emp_name, emp_dpt_id, emp_basic_salary, emp_address, no_of_parts, rate_per_part):\n",
    "        super().__init__(emp_id, emp_name, emp_dpt_id, emp_basic_salary, emp_address)\n",
    "        self.no_of_parts = no_of_parts\n",
    "        self.rate_per_part = rate_per_part\n",
    "        \n",
    "    def set_no_of_parts(self, no_of_parts):\n",
    "        self.no_of_parts = no_of_parts\n",
    "        \n",
    "    def set_rate_per_part(self, rate_per_part):\n",
    "        self.rate_per_part = rate_per_part\n",
    "        \n",
    "    def net_salary(self):\n",
    "        return self.emp_basic_salary + (self.no_of_parts * self.rate_per_part)\n",
    "    \n",
    "    def __str__(self):\n",
    "        return '{}\\n Parts Produced: {}\\n Rate per Part: {}\\n Net Salary: {}'.format(\n",
    "            Employee.__str__(self), self.no_of_parts, self.rate_per_part, self.net_salary())\n",
    "\n",
    "address = Address(\"Lesotho\", \"Maseru\", 100)\n",
    "manager = Manager(1, \"Kaara\", 1, 50000, address, 5, 10000)\n",
    "print(manager)\n",
    "print()\n",
    "\n",
    "address1 = Address(\"Lesotho\", \"Leribe\", 300)\n",
    "hourly_employee = HourlyEmployee(2, \"Thabo\", 3, 20000, address1, 10, 100)\n",
    "print(hourly_employee)\n",
    "print()\n",
    "\n",
    "address2 = Address(\"Lesotho\", \"Berea\", 200)\n",
    "piece_worker = PieceWorker(3, \"Tshepo\", 4, 10000, address2, 10, 100)\n",
    "print(piece_worker)\n",
    "print()\n"
   ]
  }
 ],
 "metadata": {
  "kernelspec": {
   "display_name": "Python 3",
   "language": "python",
   "name": "python3"
  },
  "language_info": {
   "codemirror_mode": {
    "name": "ipython",
    "version": 3
   },
   "file_extension": ".py",
   "mimetype": "text/x-python",
   "name": "python",
   "nbconvert_exporter": "python",
   "pygments_lexer": "ipython3",
   "version": "3.12.3"
  }
 },
 "nbformat": 4,
 "nbformat_minor": 2
}
