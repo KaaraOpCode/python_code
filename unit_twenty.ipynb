{
 "cells": [
  {
   "cell_type": "code",
   "execution_count": 12,
   "metadata": {},
   "outputs": [
    {
     "name": "stdout",
     "output_type": "stream",
     "text": [
      "4\n"
     ]
    }
   ],
   "source": [
    "def square(x):\n",
    "    return x**2\n",
    "\n",
    "my_func = square \n",
    "print(my_func(2))"
   ]
  },
  {
   "cell_type": "markdown",
   "metadata": {},
   "source": [
    "pair programming"
   ]
  },
  {
   "cell_type": "markdown",
   "metadata": {},
   "source": [
    "variable binding"
   ]
  },
  {
   "cell_type": "code",
   "execution_count": 9,
   "metadata": {},
   "outputs": [
    {
     "name": "stdout",
     "output_type": "stream",
     "text": [
      "140723554491096 10\n",
      "140723554491416 20\n",
      "\n"
     ]
    }
   ],
   "source": [
    "a=10\n",
    "print(id(a),a)\n",
    "a=20\n",
    "print(id(a),a)\n",
    "\n",
    "print()"
   ]
  },
  {
   "cell_type": "code",
   "execution_count": 1,
   "metadata": {},
   "outputs": [
    {
     "name": "stdout",
     "output_type": "stream",
     "text": [
      "9\n"
     ]
    }
   ],
   "source": [
    "def apply_operation(func, x):\n",
    "    return func(x)\n",
    "\n",
    "def square(x):\n",
    "    return x**2\n",
    "\n",
    "print(apply_operation(square, 3))"
   ]
  },
  {
   "cell_type": "markdown",
   "metadata": {},
   "source": [
    "Calculator demonstrating Function Closure"
   ]
  },
  {
   "cell_type": "code",
   "execution_count": 15,
   "metadata": {},
   "outputs": [
    {
     "name": "stdout",
     "output_type": "stream",
     "text": [
      "Addition Result:  15\n",
      "Subtraction Result:  5\n",
      "Multiplication Result:  50\n",
      "Division Result:  2.0\n",
      "Modulus Result:  1\n",
      "Power Result:  100000\n",
      "Floor Division Result:  2\n"
     ]
    }
   ],
   "source": [
    "\n",
    "def get_op(op):\n",
    "    if op == '+':\n",
    "        def add(x,y):\n",
    "            return x + y\n",
    "        return add\n",
    "    elif op == '-':\n",
    "        def sub(x,y):\n",
    "            return x - y\n",
    "        return sub\n",
    "    elif op == '*':\n",
    "        def mul (x,y):\n",
    "            return x * y\n",
    "        return mul\n",
    "    elif op == '/':\n",
    "        def div(x,y):\n",
    "            return x / y\n",
    "        return div\n",
    "    elif op == '%':\n",
    "        def mod(x,y):\n",
    "            return x % y\n",
    "        return mod\n",
    "    elif op == '**':\n",
    "        def pow(x,y):\n",
    "            return x ** y\n",
    "        return pow\n",
    "    elif  op == '//':\n",
    "        def floordiv(x,y):\n",
    "            return x // y\n",
    "        return floordiv\n",
    "    else:\n",
    "        print(\"Invalid Operator\")\n",
    "\n",
    "add_func = get_op('+')\n",
    "sub_func = get_op('-')\n",
    "mul_func = get_op('*')\n",
    "div_func = get_op('/')\n",
    "mod_func = get_op('%')\n",
    "pow_func = get_op('**')\n",
    "floordiv_func = get_op('//')\n",
    "\n",
    "\n",
    "print(\"Addition Result: \", add_func(10, 5) )\n",
    "print(\"Subtraction Result: \", sub_func(10, 5) )\n",
    "print(\"Multiplication Result: \", mul_func(10, 5) )\n",
    "print(\"Division Result: \", div_func(10, 5) )\n",
    "print(\"Modulus Result: \", mod_func(11, 5) )\n",
    "print(\"Power Result: \", pow_func(10, 5) )\n",
    "print(\"Floor Division Result: \", floordiv_func(11, 5) )"
   ]
  },
  {
   "cell_type": "code",
   "execution_count": 16,
   "metadata": {},
   "outputs": [
    {
     "data": {
      "text/plain": [
       "7"
      ]
     },
     "execution_count": 16,
     "metadata": {},
     "output_type": "execute_result"
    }
   ],
   "source": [
    "def add(a,b):\n",
    "    return a + b\n",
    "\n",
    "def f(g, a,b):\n",
    "    return g(a,b)\n",
    "f(add, 3, 4)\n"
   ]
  },
  {
   "cell_type": "markdown",
   "metadata": {},
   "source": [
    "Nested Functions : "
   ]
  },
  {
   "cell_type": "code",
   "execution_count": 6,
   "metadata": {},
   "outputs": [
    {
     "name": "stdout",
     "output_type": "stream",
     "text": [
      "<i>hello</i>\n",
      "<b>hello</b>\n"
     ]
    }
   ],
   "source": [
    "def decorate(style = 'italic'):\n",
    "    m = 'hello'\n",
    "    def italic(m):\n",
    "        return '<i>' + m + '</i>'\n",
    "    def bold(m):\n",
    "        return '<b>' + m + '</b>'\n",
    "    if style == 'italic':\n",
    "        return italic\n",
    "    else:\n",
    "        return bold\n",
    "dec = decorate()\n",
    "print(dec('hello'))\n",
    "dec2 = decorate('bold')\n",
    "print(dec2('hello'))"
   ]
  },
  {
   "cell_type": "markdown",
   "metadata": {},
   "source": [
    "necessity of non local"
   ]
  },
  {
   "cell_type": "code",
   "execution_count": null,
   "metadata": {},
   "outputs": [],
   "source": [
    "def func1():\n",
    "    n3 = 1\n",
    "    def func2():\n",
    "        nonlocal n3\n",
    "        n3 += 1\n",
    "        print(n3)\n",
    "    func2()\n",
    "\n",
    "func1()"
   ]
  },
  {
   "cell_type": "markdown",
   "metadata": {},
   "source": [
    "Paper Coding 1"
   ]
  },
  {
   "cell_type": "code",
   "execution_count": 12,
   "metadata": {},
   "outputs": [
    {
     "name": "stdout",
     "output_type": "stream",
     "text": [
      "hello\n"
     ]
    }
   ],
   "source": [
    "def greeting():\n",
    "    def say_hi():\n",
    "        print('hello')\n",
    "    say_hi()\n",
    "\n",
    "greeting()"
   ]
  },
  {
   "cell_type": "markdown",
   "metadata": {},
   "source": [
    "Paper Coding 2"
   ]
  },
  {
   "cell_type": "code",
   "execution_count": 13,
   "metadata": {},
   "outputs": [
    {
     "name": "stdout",
     "output_type": "stream",
     "text": [
      "14\n"
     ]
    }
   ],
   "source": [
    "def calc():\n",
    "    a = 3\n",
    "    b = 5\n",
    "    def mul_add(x):\n",
    "        return a * x + b\n",
    "    return mul_add\n",
    "\n",
    "c = calc()\n",
    "print(c(3))"
   ]
  },
  {
   "cell_type": "markdown",
   "metadata": {},
   "source": [
    "Pair Programming"
   ]
  },
  {
   "cell_type": "code",
   "execution_count": 3,
   "metadata": {},
   "outputs": [
    {
     "name": "stdout",
     "output_type": "stream",
     "text": [
      "Sub-groups: [[100, 90, 95], [90, 80, 70], [0, 80, 90], [90, 0, 90], [100, 75, 20], [30, 50, 90]]\n",
      "Valid sub-groups: [[100, 90, 95], [90, 80, 70], [100, 75, 20], [30, 50, 90]]\n",
      "Sorted valid sub-groups by highest average: [[100, 90, 95], [90, 80, 70], [100, 75, 20], [30, 50, 90]]\n"
     ]
    }
   ],
   "source": [
    "\"\"\"scores = [100, 90, 95, 90, 80, 70, 0, 80, 90, 90, 0, 90, 100, 75, 20, 30, 50, 90]\n",
    "sub = []\n",
    "for i in range(0, len(scores), 3):\n",
    "    sub.append(scores[i:i+3])\n",
    "print(sub)\n",
    "\n",
    "valid = []\n",
    "for subs in sub:\n",
    "    if 0 not in subs:\n",
    "        valid.append(subs)\n",
    "print(valid)\"\"\"\n",
    "\n",
    "scores = [100, 90, 95, 90, 80, 70, 0, 80, 90, 90, 0, 90, 100, 75, 20, 30, 50, 90]\n",
    "sub = [scores[i:i + 3] for i in range(0, len(scores), 3)]\n",
    "\n",
    "valid = [subs for subs in sub if 0 not in subs]\n",
    "\n",
    "def average(group):\n",
    "    return sum(group) / len(group)\n",
    "\n",
    "sorted_valid = sorted(valid, key=average, reverse=True)\n",
    "\n",
    "print('Sub-groups:', sub)\n",
    "print('Valid sub-groups:', valid)\n",
    "print('Sorted valid sub-groups by highest average:', sorted_valid)\n"
   ]
  }
 ],
 "metadata": {
  "kernelspec": {
   "display_name": "Python 3",
   "language": "python",
   "name": "python3"
  },
  "language_info": {
   "codemirror_mode": {
    "name": "ipython",
    "version": 3
   },
   "file_extension": ".py",
   "mimetype": "text/x-python",
   "name": "python",
   "nbconvert_exporter": "python",
   "pygments_lexer": "ipython3",
   "version": "3.12.3"
  }
 },
 "nbformat": 4,
 "nbformat_minor": 2
}
