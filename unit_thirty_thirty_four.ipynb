{
 "cells": [
  {
   "cell_type": "markdown",
   "metadata": {},
   "source": [
    "QUIZ 1"
   ]
  },
  {
   "cell_type": "code",
   "execution_count": 3,
   "metadata": {},
   "outputs": [
    {
     "name": "stdout",
     "output_type": "stream",
     "text": [
      "[20, 40, 65]\n"
     ]
    }
   ],
   "source": [
    "import random as rd\n",
    "\n",
    "mul_five = list(range(0, 101, 5))\n",
    "selected = rd.sample(mul_five, 3)\n",
    "\n",
    "print(selected)"
   ]
  },
  {
   "cell_type": "markdown",
   "metadata": {},
   "source": [
    "QUIZ 2"
   ]
  },
  {
   "cell_type": "code",
   "execution_count": 4,
   "metadata": {},
   "outputs": [
    {
     "name": "stdout",
     "output_type": "stream",
     "text": [
      "Special Date: 2023-01-01\n",
      "100-Day Anniversary Date: 2023-04-11\n"
     ]
    }
   ],
   "source": [
    "from datetime import datetime, timedelta\n",
    "\n",
    "# Define your special date (e.g., the day you started something special)\n",
    "special_date = datetime(2023, 1, 1)  # Format: YYYY, M, D\n",
    "\n",
    "# Define the number of days for the anniversary\n",
    "days_until_anniversary = 100\n",
    "\n",
    "# Calculate the anniversary date by adding timedelta to the special date\n",
    "anniversary_date = special_date + timedelta(days=days_until_anniversary)\n",
    "\n",
    "# Print the special date and the anniversary date\n",
    "print(f\"Special Date: {special_date.strftime('%Y-%m-%d')}\")\n",
    "print(f\"{days_until_anniversary}-Day Anniversary Date: {anniversary_date.strftime('%Y-%m-%d')}\")\n"
   ]
  },
  {
   "cell_type": "code",
   "execution_count": 5,
   "metadata": {},
   "outputs": [
    {
     "name": "stdout",
     "output_type": "stream",
     "text": [
      "Today's Date: 2024-08-22\n",
      "Date 100 Days from Today: 2024-11-30\n"
     ]
    }
   ],
   "source": [
    "from datetime import datetime, timedelta\n",
    "\n",
    "# Get the current date and time\n",
    "today = datetime.now()\n",
    "\n",
    "# Create a timedelta of 100 days\n",
    "delta = timedelta(days=100)\n",
    "\n",
    "# Calculate the date 100 days from today\n",
    "future_date = today + delta\n",
    "\n",
    "print(f\"Today's Date: {today.strftime('%Y-%m-%d')}\")\n",
    "print(f\"Date 100 Days from Today: {future_date.strftime('%Y-%m-%d')}\")\n"
   ]
  },
  {
   "cell_type": "code",
   "execution_count": 6,
   "metadata": {},
   "outputs": [
    {
     "name": "stdout",
     "output_type": "stream",
     "text": [
      "Anaconda Installation Path: /\n"
     ]
    }
   ],
   "source": [
    "import sys\n",
    "import os\n",
    "\n",
    "# Get the path where Python is running\n",
    "python_path = sys.executable\n",
    "\n",
    "# Find the Anaconda directory by moving up from the Python executable\n",
    "anaconda_path = os.path.dirname(os.path.dirname(python_path))\n",
    "\n",
    "print(\"Anaconda Installation Path:\", anaconda_path)\n"
   ]
  }
 ],
 "metadata": {
  "kernelspec": {
   "display_name": "Python 3",
   "language": "python",
   "name": "python3"
  },
  "language_info": {
   "codemirror_mode": {
    "name": "ipython",
    "version": 3
   },
   "file_extension": ".py",
   "mimetype": "text/x-python",
   "name": "python",
   "nbconvert_exporter": "python",
   "pygments_lexer": "ipython3",
   "version": "3.11.2"
  }
 },
 "nbformat": 4,
 "nbformat_minor": 2
}
