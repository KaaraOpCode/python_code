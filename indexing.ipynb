{
 "cells": [
  {
   "cell_type": "markdown",
   "metadata": {},
   "source": [
    "1. Both Values and Indices\n",
    "Operations Based on Indices: Sometimes, you need to manipulate or track both the values and their positions in a list. For example, you might want to sort a list and know the positions of the swapped elements or track the index of the minimum value found during a selection sort.\n",
    "\n",
    "Manual Indexing: Directly using indices to access or modify elements in a list. This approach gives you full control over index manipulation, which can be crucial for algorithms that rely on position information.\n",
    "\n",
    "Using enumerate: This Python built-in function simplifies the process of accessing both the value and the index during iteration. It provides a cleaner way to handle both without manually managing the index.\n",
    "\n",
    "Example of Manual Indexing and enumerate:"
   ]
  },
  {
   "cell_type": "code",
   "execution_count": null,
   "metadata": {},
   "outputs": [],
   "source": [
    "# Manual Indexing\n",
    "def find_max_min_manual(nums):\n",
    "    max_idx = 0\n",
    "    min_idx = 0\n",
    "    for i in range(len(nums)):\n",
    "        if nums[i] > nums[max_idx]:\n",
    "            max_idx = i\n",
    "        if nums[i] < nums[min_idx]:\n",
    "            min_idx = i\n",
    "    return max_idx, min_idx\n",
    "\n",
    "# Using `enumerate`\n",
    "def find_max_min_enumerate(nums):\n",
    "    max_idx = 0\n",
    "    min_idx = 0\n",
    "    for i, value in enumerate(nums):\n",
    "        if value > nums[max_idx]:\n",
    "            max_idx = i\n",
    "        if value < nums[min_idx]:\n",
    "            min_idx = i\n",
    "    return max_idx, min_idx\n"
   ]
  },
  {
   "cell_type": "markdown",
   "metadata": {},
   "source": [
    "2. Simple Value Access\n",
    "Direct Loops (Value-Based Initialization): When you only need to access or process the values in a list, using direct value-based loops is simple and straightforward. This approach is typically used when you don't need to modify or track indices.\n",
    "Example of Simple Value Access:"
   ]
  },
  {
   "cell_type": "code",
   "execution_count": 61,
   "metadata": {},
   "outputs": [
    {
     "name": "stdout",
     "output_type": "stream",
     "text": [
      "Max value among adjacent comparisons: 60\n"
     ]
    }
   ],
   "source": [
    "def find_max_of_adjacent(nums):\n",
    "    if len(nums) < 2:\n",
    "        return None  # Not enough elements to compare\n",
    "\n",
    "    max_value = None\n",
    "    for index in range(len(nums) - 1):\n",
    "        if nums[index] > nums[index + 1]:\n",
    "            if max_value is None or nums[index] > max_value:\n",
    "                max_value = nums[index]\n",
    "        else:\n",
    "            if max_value is None or nums[index + 1] > max_value:\n",
    "                max_value = nums[index + 1]\n",
    "                \n",
    "    return max_value\n",
    "\n",
    "# List of numbers\n",
    "nums = [11, 45, 26, 59, 37, 28, 17, 53, 60]\n",
    "max_adjacent_value = find_max_of_adjacent(nums)\n",
    "print(f\"Max value among adjacent comparisons: {max_adjacent_value}\")\n"
   ]
  }
 ],
 "metadata": {
  "kernelspec": {
   "display_name": "Python 3",
   "language": "python",
   "name": "python3"
  },
  "language_info": {
   "codemirror_mode": {
    "name": "ipython",
    "version": 3
   },
   "file_extension": ".py",
   "mimetype": "text/x-python",
   "name": "python",
   "nbconvert_exporter": "python",
   "pygments_lexer": "ipython3",
   "version": "3.12.3"
  }
 },
 "nbformat": 4,
 "nbformat_minor": 2
}
