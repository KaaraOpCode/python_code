{
 "cells": [
  {
   "cell_type": "markdown",
   "metadata": {},
   "source": [
    "Unit 30\n",
    "Greedy Approach"
   ]
  },
  {
   "cell_type": "markdown",
   "metadata": {},
   "source": [
    "Change Selection"
   ]
  },
  {
   "cell_type": "code",
   "execution_count": 1,
   "metadata": {},
   "outputs": [
    {
     "name": "stdout",
     "output_type": "stream",
     "text": [
      "[500, 100, 100] 3\n"
     ]
    }
   ],
   "source": [
    "def coin_change(coins, amount):\n",
    "    changes = []\n",
    "    largest = 0\n",
    "    while amount > 0:\n",
    "        if amount < coins[largest]:\n",
    "            largest += 1\n",
    "        else:\n",
    "            changes.append(coins[largest])\n",
    "            amount -= coins[largest]\n",
    "    return changes\n",
    "\n",
    "coins = [500, 100, 50, 10]\n",
    "amount = int(input(\"Input the amount: \"))\n",
    "changes = coin_change(coins, amount)\n",
    "print(changes, len(changes))"
   ]
  },
  {
   "cell_type": "markdown",
   "metadata": {},
   "source": [
    "Activity Selection"
   ]
  },
  {
   "cell_type": "code",
   "execution_count": 3,
   "metadata": {},
   "outputs": [
    {
     "name": "stdout",
     "output_type": "stream",
     "text": [
      "[0, 1] 2\n"
     ]
    }
   ],
   "source": [
    "def activity_selection1(start, finish):\n",
    "    result = []\n",
    "    i = 0\n",
    "    result.append(i)\n",
    "    for j in range(1, len(start)):\n",
    "        if finish[i] <= start[j]:\n",
    "            result.append(j)\n",
    "            i = j\n",
    "        return result\n",
    "    \n",
    "start = [1, 3, 2, 0, 5, 8, 5]\n",
    "finish = [2, 4, 5, 6, 6, 9, 9]\n",
    "meetings = activity_selection1(start, finish)\n",
    "maximum = len(meetings)\n",
    "print(meetings, maximum)"
   ]
  },
  {
   "cell_type": "markdown",
   "metadata": {},
   "source": [
    "POP QUIZ\n",
    "Q1"
   ]
  },
  {
   "cell_type": "code",
   "execution_count": 4,
   "metadata": {},
   "outputs": [
    {
     "name": "stdout",
     "output_type": "stream",
     "text": [
      "[500, 100, 100, 100] 4\n"
     ]
    }
   ],
   "source": [
    "def coin_change(coins, amount):\n",
    "    changes = []\n",
    "    largest = 0\n",
    "    while amount > 0:\n",
    "        if amount < coins[largest]:\n",
    "            largest += 1\n",
    "        else:\n",
    "            changes.append(coins[largest])\n",
    "            amount -= coins[largest]\n",
    "    return changes\n",
    "\n",
    "coins = [500, 400, 100, 50, 10]\n",
    "amount = int(input(\"Input the amount: \"))\n",
    "changes = coin_change(coins, amount)\n",
    "print(changes, len(changes))"
   ]
  },
  {
   "cell_type": "markdown",
   "metadata": {},
   "source": [
    "Pair Programming\n",
    "Q1"
   ]
  },
  {
   "cell_type": "code",
   "execution_count": null,
   "metadata": {},
   "outputs": [],
   "source": [
    "def coin_change(coins, amount):\n",
    "    changes = []\n",
    "    largest = 0\n",
    "    while amount > 0:\n",
    "        if amount < coins[largest]:\n",
    "            largest += 1\n",
    "        else:\n",
    "            changes.append(coins[largest])\n",
    "            amount -= coins[largest]\n",
    "    return changes\n",
    "\n",
    "coins = [500, 100, 50, 50, 50, 10, 10]\n",
    "amount = int(input(\"Input the amount: \"))\n",
    "changes = coin_change(coins, amount)\n",
    "print(changes, len(changes))"
   ]
  },
  {
   "cell_type": "markdown",
   "metadata": {},
   "source": [
    "Q2"
   ]
  },
  {
   "cell_type": "code",
   "execution_count": 5,
   "metadata": {},
   "outputs": [
    {
     "name": "stdout",
     "output_type": "stream",
     "text": [
      "{500: 1, 100: 1, 50: 3, 10: 2}\n"
     ]
    }
   ],
   "source": [
    "def coin_change(change, coins):\n",
    "    result = {}\n",
    "    coins_keys = sorted(coins.keys(), reverse=True)\n",
    "\n",
    "    for coin in coins_keys:\n",
    "        coins_counter = min(change // coin, coins[coin])\n",
    "        change -= coins_counter * coin\n",
    "        coins[coin] -= coins_counter\n",
    "\n",
    "        if coins_counter:\n",
    "            result[coin] = coins_counter\n",
    "\n",
    "    return result\n",
    "\n",
    "coins = {500: 1, 100: 1, 50: 3, 10: 2}\n",
    "amount = int(input(\"Input the amount: \"))\n",
    "\n",
    "print(coin_change(amount, coins))"
   ]
  },
  {
   "cell_type": "code",
   "execution_count": null,
   "metadata": {},
   "outputs": [],
   "source": []
  }
 ],
 "metadata": {
  "kernelspec": {
   "display_name": "Python 3",
   "language": "python",
   "name": "python3"
  },
  "language_info": {
   "codemirror_mode": {
    "name": "ipython",
    "version": 3
   },
   "file_extension": ".py",
   "mimetype": "text/x-python",
   "name": "python",
   "nbconvert_exporter": "python",
   "pygments_lexer": "ipython3",
   "version": "3.12.3"
  }
 },
 "nbformat": 4,
 "nbformat_minor": 2
}
