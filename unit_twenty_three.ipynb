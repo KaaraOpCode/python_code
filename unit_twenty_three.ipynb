{
 "cells": [
  {
   "cell_type": "markdown",
   "metadata": {},
   "source": [
    "Pair Programming"
   ]
  },
  {
   "cell_type": "code",
   "execution_count": 21,
   "metadata": {},
   "outputs": [
    {
     "name": "stdout",
     "output_type": "stream",
     "text": [
      "[20, 30, 40, 60]\n",
      "[30, 40, 60]\n",
      "[30, 40]\n"
     ]
    }
   ],
   "source": [
    "class Deque:\n",
    "    def __init__(self):\n",
    "        self.queue = []\n",
    "\n",
    "    def add_first_index(self, item):\n",
    "        '''Add item to the front of the deque'''\n",
    "        self.queue.insert(0, item)\n",
    "    def remove_first_index(self):\n",
    "        '''Remove item from the front of the deque'''\n",
    "        return self.queue.pop(0)\n",
    "    def add_first(self, item):\n",
    "        '''Add item to the rear of the deque'''\n",
    "        self.queue.append(item)\n",
    "    def remove_first(self):\n",
    "        '''Remove item from the rear of the deque'''\n",
    "        return self.queue.pop()\n",
    "    def __str__(self):\n",
    "        return str(self.queue)\n",
    "\n",
    "queue = Deque()\n",
    "\n",
    "queue.add_first(30)\n",
    "queue.add_first(40)\n",
    "queue.add_first(60)\n",
    "queue.add_first_index(20)\n",
    "print(queue)  \n",
    "queue.remove_first_index()\n",
    "print(queue) \n",
    "queue.remove_first()\n",
    "print(queue)\n"
   ]
  }
 ],
 "metadata": {
  "kernelspec": {
   "display_name": "Python 3",
   "language": "python",
   "name": "python3"
  },
  "language_info": {
   "codemirror_mode": {
    "name": "ipython",
    "version": 3
   },
   "file_extension": ".py",
   "mimetype": "text/x-python",
   "name": "python",
   "nbconvert_exporter": "python",
   "pygments_lexer": "ipython3",
   "version": "3.12.3"
  }
 },
 "nbformat": 4,
 "nbformat_minor": 2
}
