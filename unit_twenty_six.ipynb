{
 "cells": [
  {
   "cell_type": "markdown",
   "metadata": {},
   "source": [
    "Hash Table Class"
   ]
  },
  {
   "cell_type": "code",
   "execution_count": 16,
   "metadata": {},
   "outputs": [
    {
     "name": "stdout",
     "output_type": "stream",
     "text": [
      "Inserting items into the hash table...\n",
      "\n",
      "Displaying the hash table:\n",
      "Index 0: Empty\n",
      "Index 1: Empty\n",
      "Index 2: Key = orange, Value = 3\n",
      "Index 3: Empty\n",
      "Index 4: Empty\n",
      "Index 5: Empty\n",
      "Index 6: Key = apple, Value = 1\n",
      "Index 7: Empty\n",
      "Index 8: Key = banana, Value = 2\n",
      "Index 9: Empty\n",
      "\n",
      "Searching for an item in the hash table...\n",
      "Key 'banana' found with value 2\n",
      "\n",
      "Deleting an item from the hash table...\n",
      "Key 'banana' deleted successfully\n",
      "\n",
      "Displaying the hash table after deletion:\n",
      "Index 0: Empty\n",
      "Index 1: Empty\n",
      "Index 2: Key = orange, Value = 3\n",
      "Index 3: Empty\n",
      "Index 4: Empty\n",
      "Index 5: Empty\n",
      "Index 6: Key = apple, Value = 1\n",
      "Index 7: Empty\n",
      "Index 8: Empty\n",
      "Index 9: Empty\n"
     ]
    }
   ],
   "source": [
    "class HashTable:\n",
    "    def __init__(self, size=10):\n",
    "        self.size = size\n",
    "        self.table = [None] * size\n",
    "\n",
    "    def hash_function(self, key):\n",
    "        return hash(key) % self.size\n",
    "\n",
    "    def insert(self, key, value):\n",
    "        index = self.hash_function(key)\n",
    "        original_index = index\n",
    "        while self.table[index] is not None:\n",
    "            if self.table[index][0] == key:\n",
    "                break\n",
    "            index = (index + 1) % self.size\n",
    "            if index == original_index:\n",
    "                raise Exception(\"Hash table is full\")\n",
    "        self.table[index] = (key, value)\n",
    "\n",
    "    def search(self, key):\n",
    "        index = self.hash_function(key)\n",
    "        original_index = index\n",
    "        while self.table[index] is not None:\n",
    "            if self.table[index][0] == key:\n",
    "                return self.table[index][1]\n",
    "            index = (index + 1) % self.size\n",
    "            if index == original_index:\n",
    "                break\n",
    "        return None\n",
    "\n",
    "    def delete(self, key):\n",
    "        index = self.hash_function(key)\n",
    "        original_index = index\n",
    "        while self.table[index] is not None:\n",
    "            if self.table[index][0] == key:\n",
    "                self.table[index] = None\n",
    "                self._rehash()\n",
    "                return True\n",
    "            index = (index + 1) % self.size\n",
    "            if index == original_index:\n",
    "                break\n",
    "        return False\n",
    "\n",
    "    def _rehash(self):\n",
    "        old_table = self.table\n",
    "        self.table = [None] * self.size\n",
    "        for item in old_table:\n",
    "            if item is not None:\n",
    "                self.insert(*item)\n",
    "\n",
    "    def display(self):\n",
    "        for index, item in enumerate(self.table):\n",
    "            if item is not None:\n",
    "                print(f\"Index {index}: Key = {item[0]}, Value = {item[1]}\")\n",
    "            else:\n",
    "                print(f\"Index {index}: Empty\")\n",
    "\n",
    "# Example usage of the HashTable class\n",
    "if __name__ == \"__main__\":\n",
    "    ht = HashTable(size=10)\n",
    "\n",
    "    print(\"Inserting items into the hash table...\")\n",
    "    ht.insert(\"apple\", 1)\n",
    "    ht.insert(\"banana\", 2)\n",
    "    ht.insert(\"orange\", 3)\n",
    "\n",
    "    print(\"\\nDisplaying the hash table:\")\n",
    "    ht.display()\n",
    "\n",
    "    print(\"\\nSearching for an item in the hash table...\")\n",
    "    key_to_search = \"banana\"\n",
    "    value = ht.search(key_to_search)\n",
    "    if value is not None:\n",
    "        print(f\"Key '{key_to_search}' found with value {value}\")\n",
    "    else:\n",
    "        print(f\"Key '{key_to_search}' not found in the hash table\")\n",
    "\n",
    "    print(\"\\nDeleting an item from the hash table...\")\n",
    "    key_to_delete = \"banana\"\n",
    "    if ht.delete(key_to_delete):\n",
    "        print(f\"Key '{key_to_delete}' deleted successfully\")\n",
    "    else:\n",
    "        print(f\"Key '{key_to_delete}' not found in the hash table\")\n",
    "\n",
    "    print(\"\\nDisplaying the hash table after deletion:\")\n",
    "    ht.display()\n"
   ]
  },
  {
   "cell_type": "markdown",
   "metadata": {},
   "source": [
    "Romans to Arabic"
   ]
  },
  {
   "cell_type": "code",
   "execution_count": 15,
   "metadata": {},
   "outputs": [
    {
     "name": "stdout",
     "output_type": "stream",
     "text": [
      "14\n"
     ]
    }
   ],
   "source": [
    "table = {\n",
    "    'I' : 1, 'V' : 5, 'X' : 10, 'L' : 50, 'C' : 100, 'D' : 500, 'M' : 1000\n",
    "}\n",
    "\n",
    "def roman_to_arabic(roman):\n",
    "    arabic = 0\n",
    "    for i in range(len(roman)):\n",
    "        if i + 1 < len(roman) and table[roman[i]] < table[roman[i + 1]]:\n",
    "            arabic -= table[roman[i]]\n",
    "        else:\n",
    "            arabic += table[roman[i]]\n",
    "    return arabic\n",
    "\n",
    "\n",
    "print(roman_to_arabic('XIV'))"
   ]
  },
  {
   "cell_type": "markdown",
   "metadata": {},
   "source": [
    "Pair Programming"
   ]
  },
  {
   "cell_type": "code",
   "execution_count": 14,
   "metadata": {},
   "outputs": [
    {
     "name": "stdout",
     "output_type": "stream",
     "text": [
      "XVIII\n"
     ]
    }
   ],
   "source": [
    "table = {\n",
    "    1000 : 'M',\n",
    "    900 : 'CM',\n",
    "    500 : 'D',\n",
    "    400 : 'CD',\n",
    "    100 : 'C',\n",
    "    90 : 'XC',\n",
    "    50 : 'L',\n",
    "    40 : 'XL',\n",
    "    10 : 'X',\n",
    "    9 : 'IX',\n",
    "    5 : 'V',\n",
    "    4 : 'IV',\n",
    "    1 : 'I'\n",
    "}\n",
    "\n",
    "def arabic_to_roman(arabic):\n",
    "    roman = ''\n",
    "    for i in table.keys():\n",
    "        while arabic >= i:\n",
    "            roman += table[i]\n",
    "            arabic -= i\n",
    "    return roman\n",
    "\n",
    "\n",
    "print(arabic_to_roman(18))"
   ]
  }
 ],
 "metadata": {
  "kernelspec": {
   "display_name": "Python 3",
   "language": "python",
   "name": "python3"
  },
  "language_info": {
   "codemirror_mode": {
    "name": "ipython",
    "version": 3
   },
   "file_extension": ".py",
   "mimetype": "text/x-python",
   "name": "python",
   "nbconvert_exporter": "python",
   "pygments_lexer": "ipython3",
   "version": "3.12.3"
  }
 },
 "nbformat": 4,
 "nbformat_minor": 2
}
