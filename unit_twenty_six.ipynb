{
 "cells": [
  {
   "cell_type": "markdown",
   "metadata": {},
   "source": [
    "Roman Numerals Converter"
   ]
  },
  {
   "cell_type": "code",
   "execution_count": 10,
   "metadata": {},
   "outputs": [
    {
     "name": "stdout",
     "output_type": "stream",
     "text": [
      "1994\n"
     ]
    }
   ],
   "source": [
    "table = {'I' : 1, 'V' : 5, 'X' : 10, 'L' : 50, 'C' : 100, 'D' : 500, 'M' : 1000}\n",
    "\n",
    "def  roman_to_int(str):\n",
    "    result = 0\n",
    "    for i in range(len(str)):\n",
    "        if i + 1 < len(str) and table[str[i]] < table[str[i + 1]]:\n",
    "            result -= table[str[i]]\n",
    "        else:\n",
    "            result += table[str[i]]\n",
    "    return result\n",
    "\n",
    "print(roman_to_int('MCMXCI'))"
   ]
  },
  {
   "cell_type": "markdown",
   "metadata": {},
   "source": [
    "Pair Programming"
   ]
  },
  {
   "cell_type": "code",
   "execution_count": 14,
   "metadata": {},
   "outputs": [
    {
     "name": "stdout",
     "output_type": "stream",
     "text": [
      "XVIII\n"
     ]
    }
   ],
   "source": [
    "table = {\n",
    "    1000 : 'M',\n",
    "    900 : 'CM',\n",
    "    500 : 'D',\n",
    "    400 : 'CD',\n",
    "    100 : 'C',\n",
    "    90 : 'XC',\n",
    "    50 : 'L',\n",
    "    40 : 'XL',\n",
    "    10 : 'X',\n",
    "    9 : 'IX',\n",
    "    5 : 'V',\n",
    "    4 : 'IV',\n",
    "    1 : 'I'\n",
    "}\n",
    "\n",
    "def arabic_to_roman(arabic):\n",
    "    roman = ''\n",
    "    for i in table.keys():\n",
    "        while arabic >= i:\n",
    "            roman += table[i]\n",
    "            arabic -= i\n",
    "    return roman\n",
    "\n",
    "\n",
    "print(arabic_to_roman(18))"
   ]
  }
 ],
 "metadata": {
  "kernelspec": {
   "display_name": "Python 3",
   "language": "python",
   "name": "python3"
  },
  "language_info": {
   "codemirror_mode": {
    "name": "ipython",
    "version": 3
   },
   "file_extension": ".py",
   "mimetype": "text/x-python",
   "name": "python",
   "nbconvert_exporter": "python",
   "pygments_lexer": "ipython3",
   "version": "3.12.3"
  }
 },
 "nbformat": 4,
 "nbformat_minor": 2
}
