{
 "cells": [
  {
   "cell_type": "markdown",
   "metadata": {},
   "source": [
    "Converting a csv file to a DataFrame"
   ]
  },
  {
   "cell_type": "code",
   "execution_count": 9,
   "metadata": {},
   "outputs": [
    {
     "name": "stdout",
     "output_type": "stream",
     "text": [
      "<class 'pandas.core.frame.DataFrame'>\n",
      "    PassengerId  Survived  Pclass  \\\n",
      "0             1         0       3   \n",
      "1             2         1       1   \n",
      "2             3         1       3   \n",
      "3             4         1       1   \n",
      "4             5         0       3   \n",
      "5             6         0       3   \n",
      "6             7         0       1   \n",
      "7             8         0       3   \n",
      "8             9         1       3   \n",
      "9            10         1       2   \n",
      "10           11         1       3   \n",
      "11           12         1       1   \n",
      "12           13         0       3   \n",
      "13           14         0       3   \n",
      "14           15         0       3   \n",
      "15           16         1       2   \n",
      "16           17         0       3   \n",
      "17           18         1       2   \n",
      "18           19         0       3   \n",
      "19           20         1       3   \n",
      "\n",
      "                                                 Name     Sex   Age  SibSp  \\\n",
      "0                             Braund, Mr. Owen Harris    male  22.0      1   \n",
      "1   Cumings, Mrs. John Bradley (Florence Briggs Th...  female  38.0      1   \n",
      "2                              Heikkinen, Miss. Laina  female  26.0      0   \n",
      "3        Futrelle, Mrs. Jacques Heath (Lily May Peel)  female  35.0      1   \n",
      "4                            Allen, Mr. William Henry    male  35.0      0   \n",
      "5                                    Moran, Mr. James    male   NaN      0   \n",
      "6                             McCarthy, Mr. Timothy J    male  54.0      0   \n",
      "7                      Palsson, Master. Gosta Leonard    male   2.0      3   \n",
      "8   Johnson, Mrs. Oscar W (Elisabeth Vilhelmina Berg)  female  27.0      0   \n",
      "9                 Nasser, Mrs. Nicholas (Adele Achem)  female  14.0      1   \n",
      "10                    Sandstrom, Miss. Marguerite Rut  female   4.0      1   \n",
      "11                           Bonnell, Miss. Elizabeth  female  58.0      0   \n",
      "12                     Saundercock, Mr. William Henry    male  20.0      0   \n",
      "13                        Andersson, Mr. Anders Johan    male  39.0      1   \n",
      "14               Vestrom, Miss. Hulda Amanda Adolfina  female  14.0      0   \n",
      "15                   Hewlett, Mrs. (Mary D Kingcome)   female  55.0      0   \n",
      "16                               Rice, Master. Eugene    male   2.0      4   \n",
      "17                       Williams, Mr. Charles Eugene    male   NaN      0   \n",
      "18  Vander Planke, Mrs. Julius (Emelia Maria Vande...  female  31.0      1   \n",
      "19                            Masselmani, Mrs. Fatima  female   NaN      0   \n",
      "\n",
      "    Parch            Ticket     Fare Cabin Embarked  \n",
      "0       0         A/5 21171   7.2500   NaN        S  \n",
      "1       0          PC 17599  71.2833   C85        C  \n",
      "2       0  STON/O2. 3101282   7.9250   NaN        S  \n",
      "3       0            113803  53.1000  C123        S  \n",
      "4       0            373450   8.0500   NaN        S  \n",
      "5       0            330877   8.4583   NaN        Q  \n",
      "6       0             17463  51.8625   E46        S  \n",
      "7       1            349909  21.0750   NaN        S  \n",
      "8       2            347742  11.1333   NaN        S  \n",
      "9       0            237736  30.0708   NaN        C  \n",
      "10      1           PP 9549  16.7000    G6        S  \n",
      "11      0            113783  26.5500  C103        S  \n",
      "12      0         A/5. 2151   8.0500   NaN        S  \n",
      "13      5            347082  31.2750   NaN        S  \n",
      "14      0            350406   7.8542   NaN        S  \n",
      "15      0            248706  16.0000   NaN        S  \n",
      "16      1            382652  29.1250   NaN        Q  \n",
      "17      0            244373  13.0000   NaN        S  \n",
      "18      0            345763  18.0000   NaN        S  \n",
      "19      0              2649   7.2250   NaN        C  \n",
      "<class 'pandas.core.frame.DataFrame'>\n",
      "RangeIndex: 891 entries, 0 to 890\n",
      "Data columns (total 12 columns):\n",
      " #   Column       Non-Null Count  Dtype  \n",
      "---  ------       --------------  -----  \n",
      " 0   PassengerId  891 non-null    int64  \n",
      " 1   Survived     891 non-null    int64  \n",
      " 2   Pclass       891 non-null    int64  \n",
      " 3   Name         891 non-null    object \n",
      " 4   Sex          891 non-null    object \n",
      " 5   Age          714 non-null    float64\n",
      " 6   SibSp        891 non-null    int64  \n",
      " 7   Parch        891 non-null    int64  \n",
      " 8   Ticket       891 non-null    object \n",
      " 9   Fare         891 non-null    float64\n",
      " 10  Cabin        204 non-null    object \n",
      " 11  Embarked     889 non-null    object \n",
      "dtypes: float64(2), int64(5), object(5)\n",
      "memory usage: 83.7+ KB\n",
      "None\n",
      "       PassengerId    Survived      Pclass         Age       SibSp  \\\n",
      "count   891.000000  891.000000  891.000000  714.000000  891.000000   \n",
      "mean    446.000000    0.383838    2.308642   29.699118    0.523008   \n",
      "std     257.353842    0.486592    0.836071   14.526497    1.102743   \n",
      "min       1.000000    0.000000    1.000000    0.420000    0.000000   \n",
      "25%     223.500000    0.000000    2.000000   20.125000    0.000000   \n",
      "50%     446.000000    0.000000    3.000000   28.000000    0.000000   \n",
      "75%     668.500000    1.000000    3.000000   38.000000    1.000000   \n",
      "max     891.000000    1.000000    3.000000   80.000000    8.000000   \n",
      "\n",
      "            Parch        Fare  \n",
      "count  891.000000  891.000000  \n",
      "mean     0.381594   32.204208  \n",
      "std      0.806057   49.693429  \n",
      "min      0.000000    0.000000  \n",
      "25%      0.000000    7.910400  \n",
      "50%      0.000000   14.454200  \n",
      "75%      0.000000   31.000000  \n",
      "max      6.000000  512.329200  \n"
     ]
    }
   ],
   "source": [
    "import pandas as pd\n",
    "titanic = pd.read_csv('titanic.csv')\n",
    "print(type (titanic))\n",
    "print(titanic.head(20))\n",
    "\n",
    "print(titanic.info())\n",
    "print(titanic.describe())\n"
   ]
  },
  {
   "cell_type": "markdown",
   "metadata": {},
   "source": [
    "skiprows"
   ]
  },
  {
   "cell_type": "code",
   "execution_count": 10,
   "metadata": {},
   "outputs": [
    {
     "name": "stdout",
     "output_type": "stream",
     "text": [
      "   2  1  1.1 Cumings, Mrs. John Bradley (Florence Briggs Thayer)  female  \\\n",
      "0  3  1    3                             Heikkinen, Miss. Laina   female   \n",
      "1  4  1    1       Futrelle, Mrs. Jacques Heath (Lily May Peel)   female   \n",
      "2  5  0    3                           Allen, Mr. William Henry     male   \n",
      "3  6  0    3                                   Moran, Mr. James     male   \n",
      "4  7  0    1                            McCarthy, Mr. Timothy J     male   \n",
      "\n",
      "     38  1.2  0          PC 17599  71.2833   C85  C  \n",
      "0  26.0    0  0  STON/O2. 3101282   7.9250   NaN  S  \n",
      "1  35.0    1  0            113803  53.1000  C123  S  \n",
      "2  35.0    0  0            373450   8.0500   NaN  S  \n",
      "3   NaN    0  0            330877   8.4583   NaN  Q  \n",
      "4  54.0    0  0             17463  51.8625   E46  S  \n"
     ]
    }
   ],
   "source": [
    "import pandas as pd\n",
    "titanic = pd.read_csv('titanic.csv', skiprows=2)\n",
    "#print(type (titanic))\n",
    "print(titanic.head(5))\n"
   ]
  },
  {
   "cell_type": "markdown",
   "metadata": {},
   "source": [
    "header "
   ]
  },
  {
   "cell_type": "code",
   "execution_count": 11,
   "metadata": {},
   "outputs": [
    {
     "name": "stdout",
     "output_type": "stream",
     "text": [
      "   2  1  1.1 Cumings, Mrs. John Bradley (Florence Briggs Thayer)  female  \\\n",
      "0  3  1    3                             Heikkinen, Miss. Laina   female   \n",
      "1  4  1    1       Futrelle, Mrs. Jacques Heath (Lily May Peel)   female   \n",
      "2  5  0    3                           Allen, Mr. William Henry     male   \n",
      "3  6  0    3                                   Moran, Mr. James     male   \n",
      "4  7  0    1                            McCarthy, Mr. Timothy J     male   \n",
      "\n",
      "     38  1.2  0          PC 17599  71.2833   C85  C  \n",
      "0  26.0    0  0  STON/O2. 3101282   7.9250   NaN  S  \n",
      "1  35.0    1  0            113803  53.1000  C123  S  \n",
      "2  35.0    0  0            373450   8.0500   NaN  S  \n",
      "3   NaN    0  0            330877   8.4583   NaN  Q  \n",
      "4  54.0    0  0             17463  51.8625   E46  S  \n"
     ]
    }
   ],
   "source": [
    "import pandas as pd\n",
    "titanic = pd.read_csv('titanic.csv', header=2)\n",
    "#print(type (titanic))\n",
    "print(titanic.head(5))\n"
   ]
  },
  {
   "cell_type": "code",
   "execution_count": 12,
   "metadata": {},
   "outputs": [
    {
     "name": "stdout",
     "output_type": "stream",
     "text": [
      "                    a       b                        c     d    e      f  \\\n",
      "PassengerId  Survived  Pclass                     Name   Sex  Age  SibSp   \n",
      "1                   0       3  Braund, Mr. Owen Harris  male   22      1   \n",
      "\n",
      "                 g          h     i      j         k  \n",
      "PassengerId  Parch     Ticket  Fare  Cabin  Embarked  \n",
      "1                0  A/5 21171  7.25    NaN         S  \n"
     ]
    }
   ],
   "source": [
    "import pandas as pd\n",
    "titanic = pd.read_csv('titanic.csv', header=None, names=['a', 'b', 'c', 'd', 'e', 'f', 'g', 'h', 'i', 'j', 'k'])\n",
    "print(titanic.head(2))\n"
   ]
  },
  {
   "cell_type": "markdown",
   "metadata": {},
   "source": [
    "index_col "
   ]
  },
  {
   "cell_type": "code",
   "execution_count": 13,
   "metadata": {},
   "outputs": [
    {
     "name": "stdout",
     "output_type": "stream",
     "text": [
      "                                                    PassengerId  Survived  \\\n",
      "Name                                                                        \n",
      "Braund, Mr. Owen Harris                                       1         0   \n",
      "Cumings, Mrs. John Bradley (Florence Briggs Tha...            2         1   \n",
      "\n",
      "                                                    Pclass     Sex   Age  \\\n",
      "Name                                                                       \n",
      "Braund, Mr. Owen Harris                                  3    male  22.0   \n",
      "Cumings, Mrs. John Bradley (Florence Briggs Tha...       1  female  38.0   \n",
      "\n",
      "                                                    SibSp  Parch     Ticket  \\\n",
      "Name                                                                          \n",
      "Braund, Mr. Owen Harris                                 1      0  A/5 21171   \n",
      "Cumings, Mrs. John Bradley (Florence Briggs Tha...      1      0   PC 17599   \n",
      "\n",
      "                                                       Fare Cabin Embarked  \n",
      "Name                                                                        \n",
      "Braund, Mr. Owen Harris                              7.2500   NaN        S  \n",
      "Cumings, Mrs. John Bradley (Florence Briggs Tha...  71.2833   C85        C  \n"
     ]
    }
   ],
   "source": [
    "import pandas as pd\n",
    "titanic = pd.read_csv('titanic.csv', index_col='Name')\n",
    "#print(type (titanic))\n",
    "print(titanic.head(2))"
   ]
  },
  {
   "cell_type": "markdown",
   "metadata": {},
   "source": [
    "NBA ALL"
   ]
  },
  {
   "cell_type": "code",
   "execution_count": 14,
   "metadata": {},
   "outputs": [
    {
     "name": "stdout",
     "output_type": "stream",
     "text": [
      "   Unnamed: 0       player_name team_abbreviation  age  player_height  \\\n",
      "0           0  Randy Livingston               HOU   22         193.04   \n",
      "1           1  Gaylon Nickerson               WAS   28         190.50   \n",
      "2           2      George Lynch               VAN   26         203.20   \n",
      "3           3    George McCloud               LAL   30         203.20   \n",
      "4           4      George Zidek               DEN   23         213.36   \n",
      "\n",
      "   player_weight                college country draft_year draft_round  ...  \\\n",
      "0      94.800728        Louisiana State     USA       1996           2  ...   \n",
      "1      86.182480  Northwestern Oklahoma     USA       1994           2  ...   \n",
      "2     103.418976         North Carolina     USA       1993           1  ...   \n",
      "3     102.058200          Florida State     USA       1989           1  ...   \n",
      "4     119.748288                   UCLA     USA       1995           1  ...   \n",
      "\n",
      "    pts  reb  ast  net_rating  oreb_pct  dreb_pct  usg_pct  ts_pct  ast_pct  \\\n",
      "0   3.9  1.5  2.4         0.3     0.042     0.071    0.169   0.487    0.248   \n",
      "1   3.8  1.3  0.3         8.9     0.030     0.111    0.174   0.497    0.043   \n",
      "2   8.3  6.4  1.9        -8.2     0.106     0.185    0.175   0.512    0.125   \n",
      "3  10.2  2.8  1.7        -2.7     0.027     0.111    0.206   0.527    0.125   \n",
      "4   2.8  1.7  0.3       -14.1     0.102     0.169    0.195   0.500    0.064   \n",
      "\n",
      "    season  \n",
      "0  1996-97  \n",
      "1  1996-97  \n",
      "2  1996-97  \n",
      "3  1996-97  \n",
      "4  1996-97  \n",
      "\n",
      "[5 rows x 22 columns]\n"
     ]
    }
   ],
   "source": [
    "import pandas as pd \n",
    "df = pd.read_excel('all_seasons.xlsx', sheet_name = 0, header = 0)\n",
    "print(df.head())"
   ]
  },
  {
   "cell_type": "markdown",
   "metadata": {},
   "source": [
    "JSON"
   ]
  },
  {
   "cell_type": "code",
   "execution_count": 15,
   "metadata": {},
   "outputs": [
    {
     "name": "stdout",
     "output_type": "stream",
     "text": [
      "   world_rank                            institution         country  \\\n",
      "0           1                     Harvard University             USA   \n",
      "1           2  Massachusetts Institute of Technology             USA   \n",
      "2           3                    Stanford University             USA   \n",
      "3           4                University of Cambridge  United Kingdom   \n",
      "4           5     California Institute of Technology             USA   \n",
      "\n",
      "   national_rank  quality_of_education  alumni_employment  quality_of_faculty  \\\n",
      "0              1                     7                  9                   1   \n",
      "1              2                     9                 17                   3   \n",
      "2              3                    17                 11                   5   \n",
      "3              1                    10                 24                   4   \n",
      "4              4                     2                 29                   7   \n",
      "\n",
      "   publications  influence  citations broad_impact  patents   score  year  \n",
      "0             1          1          1                     5  100.00  2012  \n",
      "1            12          4          4                     1   91.67  2012  \n",
      "2             4          2          2                    15   89.50  2012  \n",
      "3            16         16         11                    50   86.17  2012  \n",
      "4            37         22         22                    18   85.21  2012  \n"
     ]
    }
   ],
   "source": [
    "import pandas as pd \n",
    "import matplotlib.pyplot as plt\n",
    "\n",
    "df = pd.read_json('universities_ranking.json', orient='records')\n",
    "\n",
    "print(df.head())"
   ]
  },
  {
   "cell_type": "markdown",
   "metadata": {},
   "source": [
    "DataReader API"
   ]
  },
  {
   "cell_type": "code",
   "execution_count": 16,
   "metadata": {},
   "outputs": [
    {
     "name": "stderr",
     "output_type": "stream",
     "text": [
      "UsageError: Cell magic `%%apt` not found.\n"
     ]
    }
   ],
   "source": [
    "%%apt install python3-pandas-DataReader\n",
    "import pandas_datareader as pdr\n",
    "from pandas_datareader import wb\n",
    "\n",
    "all_indicators = pdr.wb.get_indicators()\n",
    "\n",
    "print(all_indicators.iloc[:5, :2])"
   ]
  },
  {
   "cell_type": "markdown",
   "metadata": {},
   "source": [
    "DataReader API"
   ]
  },
  {
   "cell_type": "code",
   "execution_count": null,
   "metadata": {},
   "outputs": [
    {
     "ename": "ModuleNotFoundError",
     "evalue": "No module named 'pandas_datareader'",
     "output_type": "error",
     "traceback": [
      "\u001b[0;31m---------------------------------------------------------------------------\u001b[0m",
      "\u001b[0;31mModuleNotFoundError\u001b[0m                       Traceback (most recent call last)",
      "Cell \u001b[0;32mIn [1], line 2\u001b[0m\n\u001b[1;32m      1\u001b[0m \u001b[38;5;28;01mimport\u001b[39;00m \u001b[38;5;21;01mmatplotlib\u001b[39;00m\u001b[38;5;21;01m.\u001b[39;00m\u001b[38;5;21;01mpyplot\u001b[39;00m \u001b[38;5;28;01mas\u001b[39;00m \u001b[38;5;21;01mplt\u001b[39;00m\n\u001b[0;32m----> 2\u001b[0m \u001b[38;5;28;01mfrom\u001b[39;00m \u001b[38;5;21;01mpandas_datareader\u001b[39;00m \u001b[38;5;28;01mimport\u001b[39;00m wb\n\u001b[1;32m      4\u001b[0m all_indicators \u001b[38;5;241m=\u001b[39m pdr\u001b[38;5;241m.\u001b[39mwb\u001b[38;5;241m.\u001b[39mget_indicators()\n\u001b[1;32m      5\u001b[0m \u001b[38;5;28mprint\u001b[39m(all_indicators\u001b[38;5;241m.\u001b[39miloc[:\u001b[38;5;241m5\u001b[39m, :\u001b[38;5;241m2\u001b[39m])\n",
      "\u001b[0;31mModuleNotFoundError\u001b[0m: No module named 'pandas_datareader'"
     ]
    }
   ],
   "source": [
    "import matplotlib.pyplot as plt\n",
    "from pandas_datareader import wb\n",
    "\n",
    "all_indicators = pdr.wb.get_indicators()\n",
    "print(all_indicators.iloc[:5, :2])"
   ]
  },
  {
   "cell_type": "markdown",
   "metadata": {},
   "source": [
    "Manipulating Rows, Columns and Elements in a DataFrame"
   ]
  },
  {
   "cell_type": "markdown",
   "metadata": {},
   "source": [
    "delete rows"
   ]
  },
  {
   "cell_type": "code",
   "execution_count": null,
   "metadata": {},
   "outputs": [
    {
     "name": "stdout",
     "output_type": "stream",
     "text": [
      "      world_rank                                      institution  \\\n",
      "11            12                               Cornell University   \n",
      "12            13                       University of Pennsylvania   \n",
      "13            14                              University of Tokyo   \n",
      "14            15                         Johns Hopkins University   \n",
      "15            16  Swiss Federal Institute of Technology in Zurich   \n",
      "...          ...                                              ...   \n",
      "2195         996                        University of the Algarve   \n",
      "2196         997                            Alexandria University   \n",
      "2197         998                     Federal University of CearÃ¡   \n",
      "2198         999                          University of A CoruÃ±a   \n",
      "2199        1000                  China Pharmaceutical University   \n",
      "\n",
      "          country  national_rank  quality_of_education  alumni_employment  \\\n",
      "11            USA             10                    21                 42   \n",
      "12            USA             11                    31                 16   \n",
      "13          Japan              1                    32                 19   \n",
      "14            USA             12                    34                 77   \n",
      "15    Switzerland              1                    26                 66   \n",
      "...           ...            ...                   ...                ...   \n",
      "2195     Portugal              7                   367                567   \n",
      "2196        Egypt              4                   236                566   \n",
      "2197       Brazil             18                   367                549   \n",
      "2198        Spain             40                   367                567   \n",
      "2199        China             83                   367                567   \n",
      "\n",
      "      quality_of_faculty  publications  influence  citations broad_impact  \\\n",
      "11                    14            22         21         16                \n",
      "12                    24             9         10          8                \n",
      "13                    31             8         19         23                \n",
      "14                    20            11          9          9                \n",
      "15                    11            40         51         44                \n",
      "...                  ...           ...        ...        ...          ...   \n",
      "2195                 218           926        845        812          969   \n",
      "2196                 218           997        908        645          981   \n",
      "2197                 218           830        823        812          975   \n",
      "2198                 218           886        974        812          975   \n",
      "2199                 218           861        991        812          981   \n",
      "\n",
      "      patents  score  year  \n",
      "11         10  73.69  2012  \n",
      "12          9  73.64  2012  \n",
      "13          3  69.49  2012  \n",
      "14          7  66.94  2012  \n",
      "15         34  66.69  2012  \n",
      "...       ...    ...   ...  \n",
      "2195      816  44.03  2015  \n",
      "2196      871  44.03  2015  \n",
      "2197      824  44.03  2015  \n",
      "2198      651  44.02  2015  \n",
      "2199      547  44.02  2015  \n",
      "\n",
      "[2189 rows x 14 columns]\n"
     ]
    }
   ],
   "source": [
    "import pandas as pd \n",
    "import matplotlib.pyplot as plt\n",
    "\n",
    "df = pd.read_json('universities_ranking.json', orient='records')\n",
    "\n",
    "#print(df.info())\n",
    "#print(df.head())\n",
    "print(df.drop([0, 1, 2, 3, 4, 5, 6, 7, 8, 9, 10], axis = 0, inplace = False))"
   ]
  },
  {
   "cell_type": "markdown",
   "metadata": {},
   "source": [
    "delete column"
   ]
  },
  {
   "cell_type": "code",
   "execution_count": null,
   "metadata": {},
   "outputs": [
    {
     "name": "stdout",
     "output_type": "stream",
     "text": [
      "      world_rank                            institution         country  \\\n",
      "0              1                     Harvard University             USA   \n",
      "1              2  Massachusetts Institute of Technology             USA   \n",
      "2              3                    Stanford University             USA   \n",
      "3              4                University of Cambridge  United Kingdom   \n",
      "4              5     California Institute of Technology             USA   \n",
      "...          ...                                    ...             ...   \n",
      "2195         996              University of the Algarve        Portugal   \n",
      "2196         997                  Alexandria University           Egypt   \n",
      "2197         998           Federal University of CearÃ¡          Brazil   \n",
      "2198         999                University of A CoruÃ±a           Spain   \n",
      "2199        1000        China Pharmaceutical University           China   \n",
      "\n",
      "      quality_of_education  quality_of_faculty  publications  influence  \\\n",
      "0                        7                   1             1          1   \n",
      "1                        9                   3            12          4   \n",
      "2                       17                   5             4          2   \n",
      "3                       10                   4            16         16   \n",
      "4                        2                   7            37         22   \n",
      "...                    ...                 ...           ...        ...   \n",
      "2195                   367                 218           926        845   \n",
      "2196                   236                 218           997        908   \n",
      "2197                   367                 218           830        823   \n",
      "2198                   367                 218           886        974   \n",
      "2199                   367                 218           861        991   \n",
      "\n",
      "      citations broad_impact  patents   score  year  \n",
      "0             1                     5  100.00  2012  \n",
      "1             4                     1   91.67  2012  \n",
      "2             2                    15   89.50  2012  \n",
      "3            11                    50   86.17  2012  \n",
      "4            22                    18   85.21  2012  \n",
      "...         ...          ...      ...     ...   ...  \n",
      "2195        812          969      816   44.03  2015  \n",
      "2196        645          981      871   44.03  2015  \n",
      "2197        812          975      824   44.03  2015  \n",
      "2198        812          975      651   44.02  2015  \n",
      "2199        812          981      547   44.02  2015  \n",
      "\n",
      "[2200 rows x 12 columns]\n"
     ]
    }
   ],
   "source": [
    "import pandas as pd \n",
    "import matplotlib.pyplot as plt\n",
    "\n",
    "df = pd.read_json('universities_ranking.json', orient='records')\n",
    "print(df.drop([\"national_rank\", \"alumni_employment\"], axis = 1, inplace = False))"
   ]
  },
  {
   "cell_type": "markdown",
   "metadata": {},
   "source": [
    "loc and iloc\n",
    "selecting row"
   ]
  },
  {
   "cell_type": "code",
   "execution_count": null,
   "metadata": {},
   "outputs": [
    {
     "data": {
      "text/html": [
       "<div>\n",
       "<style scoped>\n",
       "    .dataframe tbody tr th:only-of-type {\n",
       "        vertical-align: middle;\n",
       "    }\n",
       "\n",
       "    .dataframe tbody tr th {\n",
       "        vertical-align: top;\n",
       "    }\n",
       "\n",
       "    .dataframe thead th {\n",
       "        text-align: right;\n",
       "    }\n",
       "</style>\n",
       "<table border=\"1\" class=\"dataframe\">\n",
       "  <thead>\n",
       "    <tr style=\"text-align: right;\">\n",
       "      <th></th>\n",
       "      <th>world_rank</th>\n",
       "      <th>institution</th>\n",
       "      <th>country</th>\n",
       "      <th>national_rank</th>\n",
       "      <th>quality_of_education</th>\n",
       "      <th>alumni_employment</th>\n",
       "      <th>quality_of_faculty</th>\n",
       "      <th>publications</th>\n",
       "      <th>influence</th>\n",
       "      <th>citations</th>\n",
       "      <th>broad_impact</th>\n",
       "      <th>patents</th>\n",
       "      <th>score</th>\n",
       "      <th>year</th>\n",
       "    </tr>\n",
       "  </thead>\n",
       "  <tbody>\n",
       "    <tr>\n",
       "      <th>1</th>\n",
       "      <td>2</td>\n",
       "      <td>Massachusetts Institute of Technology</td>\n",
       "      <td>USA</td>\n",
       "      <td>2</td>\n",
       "      <td>9</td>\n",
       "      <td>17</td>\n",
       "      <td>3</td>\n",
       "      <td>12</td>\n",
       "      <td>4</td>\n",
       "      <td>4</td>\n",
       "      <td></td>\n",
       "      <td>1</td>\n",
       "      <td>91.67</td>\n",
       "      <td>2012</td>\n",
       "    </tr>\n",
       "    <tr>\n",
       "      <th>2</th>\n",
       "      <td>3</td>\n",
       "      <td>Stanford University</td>\n",
       "      <td>USA</td>\n",
       "      <td>3</td>\n",
       "      <td>17</td>\n",
       "      <td>11</td>\n",
       "      <td>5</td>\n",
       "      <td>4</td>\n",
       "      <td>2</td>\n",
       "      <td>2</td>\n",
       "      <td></td>\n",
       "      <td>15</td>\n",
       "      <td>89.50</td>\n",
       "      <td>2012</td>\n",
       "    </tr>\n",
       "    <tr>\n",
       "      <th>3</th>\n",
       "      <td>4</td>\n",
       "      <td>University of Cambridge</td>\n",
       "      <td>United Kingdom</td>\n",
       "      <td>1</td>\n",
       "      <td>10</td>\n",
       "      <td>24</td>\n",
       "      <td>4</td>\n",
       "      <td>16</td>\n",
       "      <td>16</td>\n",
       "      <td>11</td>\n",
       "      <td></td>\n",
       "      <td>50</td>\n",
       "      <td>86.17</td>\n",
       "      <td>2012</td>\n",
       "    </tr>\n",
       "    <tr>\n",
       "      <th>4</th>\n",
       "      <td>5</td>\n",
       "      <td>California Institute of Technology</td>\n",
       "      <td>USA</td>\n",
       "      <td>4</td>\n",
       "      <td>2</td>\n",
       "      <td>29</td>\n",
       "      <td>7</td>\n",
       "      <td>37</td>\n",
       "      <td>22</td>\n",
       "      <td>22</td>\n",
       "      <td></td>\n",
       "      <td>18</td>\n",
       "      <td>85.21</td>\n",
       "      <td>2012</td>\n",
       "    </tr>\n",
       "    <tr>\n",
       "      <th>5</th>\n",
       "      <td>6</td>\n",
       "      <td>Princeton University</td>\n",
       "      <td>USA</td>\n",
       "      <td>5</td>\n",
       "      <td>8</td>\n",
       "      <td>14</td>\n",
       "      <td>2</td>\n",
       "      <td>53</td>\n",
       "      <td>33</td>\n",
       "      <td>26</td>\n",
       "      <td></td>\n",
       "      <td>101</td>\n",
       "      <td>82.50</td>\n",
       "      <td>2012</td>\n",
       "    </tr>\n",
       "    <tr>\n",
       "      <th>6</th>\n",
       "      <td>7</td>\n",
       "      <td>University of Oxford</td>\n",
       "      <td>United Kingdom</td>\n",
       "      <td>2</td>\n",
       "      <td>13</td>\n",
       "      <td>28</td>\n",
       "      <td>9</td>\n",
       "      <td>15</td>\n",
       "      <td>13</td>\n",
       "      <td>19</td>\n",
       "      <td></td>\n",
       "      <td>26</td>\n",
       "      <td>82.34</td>\n",
       "      <td>2012</td>\n",
       "    </tr>\n",
       "    <tr>\n",
       "      <th>7</th>\n",
       "      <td>8</td>\n",
       "      <td>Yale University</td>\n",
       "      <td>USA</td>\n",
       "      <td>6</td>\n",
       "      <td>14</td>\n",
       "      <td>31</td>\n",
       "      <td>12</td>\n",
       "      <td>14</td>\n",
       "      <td>6</td>\n",
       "      <td>15</td>\n",
       "      <td></td>\n",
       "      <td>66</td>\n",
       "      <td>79.14</td>\n",
       "      <td>2012</td>\n",
       "    </tr>\n",
       "    <tr>\n",
       "      <th>8</th>\n",
       "      <td>9</td>\n",
       "      <td>Columbia University</td>\n",
       "      <td>USA</td>\n",
       "      <td>7</td>\n",
       "      <td>23</td>\n",
       "      <td>21</td>\n",
       "      <td>10</td>\n",
       "      <td>13</td>\n",
       "      <td>12</td>\n",
       "      <td>14</td>\n",
       "      <td></td>\n",
       "      <td>5</td>\n",
       "      <td>78.86</td>\n",
       "      <td>2012</td>\n",
       "    </tr>\n",
       "    <tr>\n",
       "      <th>9</th>\n",
       "      <td>10</td>\n",
       "      <td>University of California, Berkeley</td>\n",
       "      <td>USA</td>\n",
       "      <td>8</td>\n",
       "      <td>16</td>\n",
       "      <td>52</td>\n",
       "      <td>6</td>\n",
       "      <td>6</td>\n",
       "      <td>5</td>\n",
       "      <td>3</td>\n",
       "      <td></td>\n",
       "      <td>16</td>\n",
       "      <td>78.55</td>\n",
       "      <td>2012</td>\n",
       "    </tr>\n",
       "  </tbody>\n",
       "</table>\n",
       "</div>"
      ],
      "text/plain": [
       "   world_rank                            institution         country  \\\n",
       "1           2  Massachusetts Institute of Technology             USA   \n",
       "2           3                    Stanford University             USA   \n",
       "3           4                University of Cambridge  United Kingdom   \n",
       "4           5     California Institute of Technology             USA   \n",
       "5           6                   Princeton University             USA   \n",
       "6           7                   University of Oxford  United Kingdom   \n",
       "7           8                        Yale University             USA   \n",
       "8           9                    Columbia University             USA   \n",
       "9          10     University of California, Berkeley             USA   \n",
       "\n",
       "   national_rank  quality_of_education  alumni_employment  quality_of_faculty  \\\n",
       "1              2                     9                 17                   3   \n",
       "2              3                    17                 11                   5   \n",
       "3              1                    10                 24                   4   \n",
       "4              4                     2                 29                   7   \n",
       "5              5                     8                 14                   2   \n",
       "6              2                    13                 28                   9   \n",
       "7              6                    14                 31                  12   \n",
       "8              7                    23                 21                  10   \n",
       "9              8                    16                 52                   6   \n",
       "\n",
       "   publications  influence  citations broad_impact  patents  score  year  \n",
       "1            12          4          4                     1  91.67  2012  \n",
       "2             4          2          2                    15  89.50  2012  \n",
       "3            16         16         11                    50  86.17  2012  \n",
       "4            37         22         22                    18  85.21  2012  \n",
       "5            53         33         26                   101  82.50  2012  \n",
       "6            15         13         19                    26  82.34  2012  \n",
       "7            14          6         15                    66  79.14  2012  \n",
       "8            13         12         14                     5  78.86  2012  \n",
       "9             6          5          3                    16  78.55  2012  "
      ]
     },
     "execution_count": 1,
     "metadata": {},
     "output_type": "execute_result"
    }
   ],
   "source": [
    "import pandas as pd\n",
    "import matplotlib.pyplot as plt\n",
    "\n",
    "rank = pd.read_json('universities_ranking.json', orient = 'records')\n",
    "\n",
    "index_position = rank.iloc[1:10]\n",
    "index_position"
   ]
  },
  {
   "cell_type": "markdown",
   "metadata": {},
   "source": [
    "SPOTIFY ANALYSIS "
   ]
  },
  {
   "cell_type": "code",
   "execution_count": null,
   "metadata": {},
   "outputs": [
    {
     "ename": "ModuleNotFoundError",
     "evalue": "No module named 'seaborn'",
     "output_type": "error",
     "traceback": [
      "\u001b[0;31m---------------------------------------------------------------------------\u001b[0m",
      "\u001b[0;31mModuleNotFoundError\u001b[0m                       Traceback (most recent call last)",
      "Cell \u001b[0;32mIn [2], line 4\u001b[0m\n\u001b[1;32m      2\u001b[0m \u001b[38;5;28;01mimport\u001b[39;00m \u001b[38;5;21;01mpandas\u001b[39;00m \u001b[38;5;28;01mas\u001b[39;00m \u001b[38;5;21;01mpd\u001b[39;00m\n\u001b[1;32m      3\u001b[0m \u001b[38;5;28;01mimport\u001b[39;00m \u001b[38;5;21;01mmatplotlib\u001b[39;00m\u001b[38;5;21;01m.\u001b[39;00m\u001b[38;5;21;01mpyplot\u001b[39;00m \u001b[38;5;28;01mas\u001b[39;00m \u001b[38;5;21;01mplt\u001b[39;00m\n\u001b[0;32m----> 4\u001b[0m \u001b[38;5;28;01mimport\u001b[39;00m \u001b[38;5;21;01mseaborn\u001b[39;00m \u001b[38;5;28;01mas\u001b[39;00m \u001b[38;5;21;01msns\u001b[39;00m\n\u001b[1;32m      6\u001b[0m song \u001b[38;5;241m=\u001b[39m pd\u001b[38;5;241m.\u001b[39mread_csv(\u001b[38;5;124m'\u001b[39m\u001b[38;5;124mspotify_global_2019_most_streamed_tracks_audio_features.csv\u001b[39m\u001b[38;5;124m'\u001b[39m)\n\u001b[1;32m      7\u001b[0m \u001b[38;5;28mprint\u001b[39m(song\u001b[38;5;241m.\u001b[39mhead())\n",
      "\u001b[0;31mModuleNotFoundError\u001b[0m: No module named 'seaborn'"
     ]
    }
   ],
   "source": [
    "# Step 1\n",
    "import pandas as pd\n",
    "import matplotlib.pyplot as plt\n",
    "import seaborn as sns\n",
    "\n",
    "song = pd.read_csv('spotify_global_2019_most_streamed_tracks_audio_features.csv')\n",
    "print(song.head())"
   ]
  }
 ],
 "metadata": {
  "kernelspec": {
   "display_name": "Python 3",
   "language": "python",
   "name": "python3"
  },
  "language_info": {
   "codemirror_mode": {
    "name": "ipython",
    "version": 3
   },
   "file_extension": ".py",
   "mimetype": "text/x-python",
   "name": "python",
   "nbconvert_exporter": "python",
   "pygments_lexer": "ipython3",
   "version": "3.11.2"
  }
 },
 "nbformat": 4,
 "nbformat_minor": 2
}
