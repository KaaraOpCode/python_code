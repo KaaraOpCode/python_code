{
 "cells": [
  {
   "cell_type": "markdown",
   "metadata": {},
   "source": [
    "Time Series Example"
   ]
  },
  {
   "cell_type": "code",
   "execution_count": null,
   "metadata": {},
   "outputs": [],
   "source": [
    "import pandas as pd\n",
    "import matplotlib.pyplot as plt\n",
    "from statsmodels.tsa.seasonal import seasonal_decompose\n",
    "from statsmodels.tsa.stattools import adfuller\n",
    "from statsmodels.tsa.arima.model import ARIMA\n",
    "\n",
    "# Example Time Series Data (let's assume we have monthly sales data)\n",
    "date_rng = pd.date_range(start='1/1/2020', end='1/1/2024', freq='M')\n",
    "data = pd.Series([450, 480, 500, 520, 540, 560, 580, 600, 620, 640, 660, 680,\n",
    "                  700, 720, 740, 760, 780, 800, 820, 840, 860, 880, 900, 920,\n",
    "                  940, 960, 980, 1000, 1020, 1040, 1060, 1080, 1100, 1120,\n",
    "                  1140, 1160, 1180, 1200, 1220, 1240, 1260, 1280, 1300, 1320,\n",
    "                  1340, 1360, 1380, 1400], index=date_rng)\n",
    "\n",
    "# Plot the data\n",
    "data.plot(title=\"Monthly Sales Data\")\n",
    "plt.show()\n",
    "\n",
    "# Decomposition\n",
    "decomposition = seasonal_decompose(data, model='additive')\n",
    "decomposition.plot()\n",
    "plt.show()\n",
    "\n",
    "# Stationarity Test (ADF Test)\n",
    "result = adfuller(data)\n",
    "print('ADF Statistic:', result[0])\n",
    "print('p-value:', result[1])\n",
    "\n",
    "# Fitting ARIMA model\n",
    "model = ARIMA(data, order=(1, 1, 1))\n",
    "model_fit = model.fit()\n",
    "print(model_fit.summary())\n",
    "\n",
    "# Forecasting\n",
    "forecast = model_fit.forecast(steps=12)\n",
    "plt.plot(data, label='Original')\n",
    "plt.plot(forecast, label='Forecast')\n",
    "plt.legend()\n",
    "plt.show()\n"
   ]
  },
  {
   "cell_type": "code",
   "execution_count": null,
   "metadata": {},
   "outputs": [],
   "source": []
  }
 ],
 "metadata": {
  "language_info": {
   "name": "python"
  }
 },
 "nbformat": 4,
 "nbformat_minor": 2
}
