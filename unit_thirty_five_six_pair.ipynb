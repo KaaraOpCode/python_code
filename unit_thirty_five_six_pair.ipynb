{
 "cells": [
  {
   "cell_type": "markdown",
   "id": "cab27259",
   "metadata": {},
   "source": [
    "DATA ANALYSIS "
   ]
  },
  {
   "cell_type": "markdown",
   "id": "91e3a2b9",
   "metadata": {},
   "source": [
    "PAIR UNIT 35,36 Q1"
   ]
  },
  {
   "cell_type": "code",
   "execution_count": 12,
   "id": "29478209-76d3-4f24-b9a8-54786a0a6755",
   "metadata": {},
   "outputs": [
    {
     "name": "stdout",
     "output_type": "stream",
     "text": [
      "  Country  Rank                Track_id     Streams        Track Name  \\\n",
      "0  global   1.0  25sgk305KZfyuqVBQIahim  1166185736  Sweet but Psycho   \n",
      "1  global   2.0  2Fxmhks0bxGSBdJ92vM42m  1052358787           bad guy   \n",
      "2  global   3.0  6ocbgoVGwYJhOv1GgI9NsF   789094044           7 rings   \n",
      "3  global   4.0  1rgnBhdG2JDFTbYkYRZAku   764208309      Dance Monkey   \n",
      "4  global   5.0  6v3KW9xbzN5yKLt9YKDYA2   763064359          Señorita   \n",
      "\n",
      "          Artist                                                URL  \\\n",
      "0        Ava Max  https://open.spotify.com/track/25sgk305KZfyuqV...   \n",
      "1  Billie Eilish  https://open.spotify.com/track/2Fxmhks0bxGSBdJ...   \n",
      "2  Ariana Grande  https://open.spotify.com/track/6ocbgoVGwYJhOv1...   \n",
      "3    Tones and I  https://open.spotify.com/track/1rgnBhdG2JDFTbY...   \n",
      "4   Shawn Mendes  https://open.spotify.com/track/6v3KW9xbzN5yKLt...   \n",
      "\n",
      "   acousticness  danceability  energy  ...  valence    tempo  time_signature  \\\n",
      "0        0.0691         0.719   0.704  ...    0.628  133.002               4   \n",
      "1        0.3280         0.701   0.425  ...    0.562  135.128               4   \n",
      "2        0.5920         0.778   0.317  ...    0.327  140.048               4   \n",
      "3        0.6880         0.825   0.593  ...    0.540   98.078               4   \n",
      "4        0.0392         0.759   0.548  ...    0.749  116.967               4   \n",
      "\n",
      "   duration_ms  key  mode               Artist_id  Artist_popularity  \\\n",
      "0       187436    1     1  4npEfmQ6YuiwW1GpUmaq3F                 87   \n",
      "1       194088    7     1  6qqNVTkY8uBg9cP3Jd7DAH                 98   \n",
      "2       178627    1     0  66CXWjxzNUsdJxJ2JdwvnR                 97   \n",
      "3       209755    6     0  2NjfBq1NflQcKSeiDooVjY                 92   \n",
      "4       190800    9     0  7n2wHs1TKAczGzO7Dd2rGr                 94   \n",
      "\n",
      "   Artist_follower                                         Artist_img  \n",
      "0          1025358  https://i.scdn.co/image/4b914c6470c8458674538a...  \n",
      "1         18867904  https://i.scdn.co/image/2622edec99d68d1d141886...  \n",
      "2         40958727  https://i.scdn.co/image/b1dfbe843b0b9f54ab2e58...  \n",
      "3           484241  https://i.scdn.co/image/c128f5ef4d210a67610acd...  \n",
      "4         23152263  https://i.scdn.co/image/6bd59cfbd3e1e6394af710...  \n",
      "\n",
      "[5 rows x 24 columns]\n"
     ]
    }
   ],
   "source": [
    "#step 1\n",
    "import pandas as pd\n",
    "import matplotlib.pyplot as plt\n",
    "#import seaborn as sns\n",
    "\n",
    "song = pd.read_csv(\"spotify_global_2019_most_streamed_tracks_audio_features.csv\")\n",
    "print(song.head())\n"
   ]
  },
  {
   "cell_type": "code",
   "execution_count": null,
   "id": "fd90ccbc-e0a4-4f9a-8bb7-6a5d4f42da63",
   "metadata": {},
   "outputs": [
    {
     "name": "stdout",
     "output_type": "stream",
     "text": [
      "<class 'pandas.core.frame.DataFrame'>\n",
      "RangeIndex: 1717 entries, 0 to 1716\n",
      "Data columns (total 24 columns):\n",
      " #   Column             Non-Null Count  Dtype  \n",
      "---  ------             --------------  -----  \n",
      " 0   Country            1717 non-null   object \n",
      " 1   Rank               1717 non-null   float64\n",
      " 2   Track_id           1717 non-null   object \n",
      " 3   Streams            1717 non-null   int64  \n",
      " 4   Track Name         1717 non-null   object \n",
      " 5   Artist             1717 non-null   object \n",
      " 6   URL                1717 non-null   object \n",
      " 7   acousticness       1717 non-null   float64\n",
      " 8   danceability       1717 non-null   float64\n",
      " 9   energy             1717 non-null   float64\n",
      " 10  instrumentalness   1717 non-null   float64\n",
      " 11  liveness           1717 non-null   float64\n",
      " 12  loudness           1717 non-null   float64\n",
      " 13  speechiness        1717 non-null   float64\n",
      " 14  valence            1717 non-null   float64\n",
      " 15  tempo              1717 non-null   float64\n",
      " 16  time_signature     1717 non-null   int64  \n",
      " 17  duration_ms        1717 non-null   int64  \n",
      " 18  key                1717 non-null   int64  \n",
      " 19  mode               1717 non-null   int64  \n",
      " 20  Artist_id          1717 non-null   object \n",
      " 21  Artist_popularity  1717 non-null   int64  \n",
      " 22  Artist_follower    1717 non-null   int64  \n",
      " 23  Artist_img         1717 non-null   object \n",
      "dtypes: float64(10), int64(7), object(7)\n",
      "memory usage: 322.1+ KB\n",
      "None\n"
     ]
    }
   ],
   "source": [
    "#step 1\n",
    "print(song.info())"
   ]
  },
  {
   "cell_type": "code",
   "execution_count": null,
   "id": "56db09a6-2909-412c-81b2-13288af83614",
   "metadata": {},
   "outputs": [
    {
     "name": "stdout",
     "output_type": "stream",
     "text": [
      "              Rank       Streams  acousticness  danceability       energy  \\\n",
      "count  1717.000000  1.717000e+03   1717.000000   1717.000000  1717.000000   \n",
      "mean    859.000000  5.166175e+07      0.257652      0.675438     0.624354   \n",
      "std     495.799523  1.047532e+08      0.256975      0.154163     0.172298   \n",
      "min       1.000000  5.242300e+05      0.000037      0.151000     0.013700   \n",
      "25%     430.000000  1.763026e+06      0.051900      0.584000     0.525000   \n",
      "50%     859.000000  9.623926e+06      0.171000      0.694000     0.646000   \n",
      "75%    1288.000000  4.829352e+07      0.385000      0.787000     0.747000   \n",
      "max    1717.000000  1.166186e+09      0.979000      0.974000     0.978000   \n",
      "\n",
      "       instrumentalness     liveness     loudness  speechiness      valence  \\\n",
      "count       1717.000000  1717.000000  1717.000000  1717.000000  1717.000000   \n",
      "mean           0.014577     0.174317    -6.477624     0.129967     0.487719   \n",
      "std            0.085988     0.135992     2.777252     0.113958     0.220402   \n",
      "min            0.000000     0.019700   -25.166000     0.023200     0.026200   \n",
      "25%            0.000000     0.097200    -7.595000     0.044600     0.321000   \n",
      "50%            0.000000     0.123000    -5.991000     0.080100     0.490000   \n",
      "75%            0.000022     0.198000    -4.696000     0.188000     0.652000   \n",
      "max            0.956000     0.959000    -1.339000     0.856000     0.982000   \n",
      "\n",
      "             tempo  time_signature    duration_ms          key         mode  \\\n",
      "count  1717.000000     1717.000000    1717.000000  1717.000000  1717.000000   \n",
      "mean    122.147556        3.942341  202604.382644     5.332557     0.582994   \n",
      "std      30.734280        0.373427   58229.593358     3.677810     0.493208   \n",
      "min      46.489000        1.000000   46837.000000     0.000000     0.000000   \n",
      "25%      97.038000        4.000000  171573.000000     2.000000     0.000000   \n",
      "50%     120.013000        4.000000  196400.000000     6.000000     1.000000   \n",
      "75%     143.027000        4.000000  224225.000000     8.000000     1.000000   \n",
      "max     207.476000        5.000000  943529.000000    11.000000     1.000000   \n",
      "\n",
      "       Artist_popularity  Artist_follower  \n",
      "count        1717.000000     1.717000e+03  \n",
      "mean           87.246942     8.645130e+06  \n",
      "std             7.808209     1.105793e+07  \n",
      "min            47.000000     1.090000e+02  \n",
      "25%            83.000000     1.370858e+06  \n",
      "50%            87.000000     3.998147e+06  \n",
      "75%            93.000000     1.099547e+07  \n",
      "max           100.000000     5.746376e+07  \n"
     ]
    }
   ],
   "source": [
    "#STEP 1\n",
    "print(song.describe())"
   ]
  },
  {
   "cell_type": "code",
   "execution_count": null,
   "id": "4a7e28b9-28f4-41b3-8a76-0d61991b52ed",
   "metadata": {},
   "outputs": [
    {
     "name": "stdout",
     "output_type": "stream",
     "text": [
      "0    133.002\n",
      "1    135.128\n",
      "2    140.048\n",
      "3     98.078\n",
      "4    116.967\n",
      "5     93.989\n",
      "6     95.799\n",
      "7    109.891\n",
      "8    100.015\n",
      "9     99.947\n",
      "Name: tempo, dtype: float64\n"
     ]
    }
   ],
   "source": [
    "#step 2\n",
    "tempo_df = song['tempo']\n",
    "print(tempo_df.head(10))"
   ]
  },
  {
   "cell_type": "code",
   "execution_count": null,
   "id": "a85cd8b9-e490-4ee1-a34c-fa1f85c94e82",
   "metadata": {},
   "outputs": [
    {
     "name": "stdout",
     "output_type": "stream",
     "text": [
      "           Artist                                     Track Name    tempo\n",
      "0         Ava Max                               Sweet but Psycho  133.002\n",
      "1   Billie Eilish                                        bad guy  135.128\n",
      "2   Ariana Grande                                        7 rings  140.048\n",
      "10         Halsey                                     Without Me  136.041\n",
      "11     Pedro Capó                                  Calma - Remix  126.899\n",
      "13    Post Malone                    Goodbyes (Feat. Young Thug)  150.231\n",
      "15      Lil Nas X  Old Town Road (feat. Billy Ray Cyrus) - Remix  136.041\n",
      "17      Bad Bunny                                       Callaita  176.169\n",
      "18        J. Cole                                   MIDDLE CHILD  123.984\n",
      "20   Travis Scott                                     SICKO MODE  155.008\n"
     ]
    }
   ],
   "source": [
    "up_beat_playlist = song[song['tempo'] >120][['Artist', 'Track Name', 'tempo']]\n",
    "print(up_beat_playlist.head(10))"
   ]
  },
  {
   "cell_type": "code",
   "execution_count": null,
   "id": "2d38df83-d590-44d2-a295-07dc540743da",
   "metadata": {},
   "outputs": [],
   "source": [
    "#playlist to excell\n",
    "up_beat_playlist.to_excel('up_beat_playlist.xlsx', index = False)"
   ]
  },
  {
   "cell_type": "code",
   "execution_count": null,
   "id": "458788b9-eb88-42e8-abbc-3297bc9f63c9",
   "metadata": {},
   "outputs": [],
   "source": [
    "#%pip install seaborn\n",
    "import matplotlib.pyplot as plt\n",
    "#import seaborn as sns\n",
    "#visualizing the distribution of a specific column, such as 'tempo'\n",
    "plt.figure(figsize=(10, 6))\n",
    "sns.histplot(song['tempo'], kde=True)\n",
    "plt.title('Distribution of Song Tempos')\n",
    "plt.xlabel('Tempo')\n",
    "plt.ylabel('Frequency')\n",
    "plt.show()\n",
    "\n",
    "# creating a playlist of only upbeat music using 'tempo' as the criterion\n",
    "# and including artist name, track name, tempo, and streams\n",
    "upbeat_playlist = song[song['tempo'] > 120][['Artist', 'Track Name', 'Streams', 'tempo']]\n",
    "\n",
    "# Display the upbeat playlist\n",
    "print(upbeat_playlist.head())\n",
    "\n",
    "# Save the upbeat playlist to an Excel file\n",
    "upbeat_playlist.to_excel('upbeat_playlist_1.xlsx', index=False)"
   ]
  },
  {
   "cell_type": "code",
   "execution_count": null,
   "id": "73e639af-c78c-4329-ac31-21d25ce0998b",
   "metadata": {},
   "outputs": [
    {
     "data": {
      "text/html": [
       "<div>\n",
       "<style scoped>\n",
       "    .dataframe tbody tr th:only-of-type {\n",
       "        vertical-align: middle;\n",
       "    }\n",
       "\n",
       "    .dataframe tbody tr th {\n",
       "        vertical-align: top;\n",
       "    }\n",
       "\n",
       "    .dataframe thead th {\n",
       "        text-align: right;\n",
       "    }\n",
       "</style>\n",
       "<table border=\"1\" class=\"dataframe\">\n",
       "  <thead>\n",
       "    <tr style=\"text-align: right;\">\n",
       "      <th></th>\n",
       "      <th>ranking</th>\n",
       "      <th>title</th>\n",
       "      <th>location</th>\n",
       "      <th>number students</th>\n",
       "      <th>students staff ratio</th>\n",
       "      <th>perc intl students</th>\n",
       "      <th>gender ratio</th>\n",
       "    </tr>\n",
       "  </thead>\n",
       "  <tbody>\n",
       "    <tr>\n",
       "      <th>0</th>\n",
       "      <td>1</td>\n",
       "      <td>University of Oxford</td>\n",
       "      <td>United Kingdom</td>\n",
       "      <td>20,774</td>\n",
       "      <td>11.1</td>\n",
       "      <td>41%</td>\n",
       "      <td>46 : 54</td>\n",
       "    </tr>\n",
       "    <tr>\n",
       "      <th>1</th>\n",
       "      <td>2</td>\n",
       "      <td>Stanford University</td>\n",
       "      <td>United States</td>\n",
       "      <td>16,223</td>\n",
       "      <td>7.4</td>\n",
       "      <td>23%</td>\n",
       "      <td>44 : 56</td>\n",
       "    </tr>\n",
       "    <tr>\n",
       "      <th>2</th>\n",
       "      <td>3</td>\n",
       "      <td>Harvard University</td>\n",
       "      <td>United States</td>\n",
       "      <td>21,261</td>\n",
       "      <td>9.3</td>\n",
       "      <td>25%</td>\n",
       "      <td>49 : 51</td>\n",
       "    </tr>\n",
       "    <tr>\n",
       "      <th>3</th>\n",
       "      <td>4</td>\n",
       "      <td>California Institute of Technology</td>\n",
       "      <td>United States</td>\n",
       "      <td>2,238</td>\n",
       "      <td>6.3</td>\n",
       "      <td>33%</td>\n",
       "      <td>36 : 64</td>\n",
       "    </tr>\n",
       "    <tr>\n",
       "      <th>4</th>\n",
       "      <td>5</td>\n",
       "      <td>Massachusetts Institute of Technology</td>\n",
       "      <td>United States</td>\n",
       "      <td>11,276</td>\n",
       "      <td>8.4</td>\n",
       "      <td>34%</td>\n",
       "      <td>39 : 61</td>\n",
       "    </tr>\n",
       "  </tbody>\n",
       "</table>\n",
       "</div>"
      ],
      "text/plain": [
       "   ranking                                  title        location  \\\n",
       "0        1                   University of Oxford  United Kingdom   \n",
       "1        2                    Stanford University   United States   \n",
       "2        3                     Harvard University   United States   \n",
       "3        4     California Institute of Technology   United States   \n",
       "4        5  Massachusetts Institute of Technology   United States   \n",
       "\n",
       "  number students  students staff ratio perc intl students gender ratio  \n",
       "0          20,774                  11.1                41%      46 : 54  \n",
       "1          16,223                   7.4                23%      44 : 56  \n",
       "2          21,261                   9.3                25%      49 : 51  \n",
       "3           2,238                   6.3                33%      36 : 64  \n",
       "4          11,276                   8.4                34%      39 : 61  "
      ]
     },
     "execution_count": 162,
     "metadata": {},
     "output_type": "execute_result"
    }
   ],
   "source": [
    "#question 1 Pair programming unit 37\n",
    "import pandas as pd\n",
    "import seaborn as sns\n",
    "\n",
    "a = pd.read_csv(\"universities_ranking.csv\")\n",
    "a.head()\n",
    "#checking data characteristic\n",
    "a.info()\n",
    "#searching for null values\n",
    "a.isnull().sum()\n",
    "#number of missing data\n",
    "(len(a)-a.count()).sum()\n",
    "#deleting a column with null value\n",
    "gender_df = a.dropna()\n",
    "gender_df.isnull().sum()\n",
    "#a['gender ratio'].fillna('47 : 50', inplace = True)\n",
    "a['gender ratio'].fillna(method = 'ffill', inplace = True)\n",
    "a.isnull().sum()\n",
    "a.head()"
   ]
  },
  {
   "cell_type": "code",
   "execution_count": null,
   "id": "80fd14ef-8d58-4595-af61-c0084556e334",
   "metadata": {},
   "outputs": [
    {
     "data": {
      "text/html": [
       "<div>\n",
       "<style scoped>\n",
       "    .dataframe tbody tr th:only-of-type {\n",
       "        vertical-align: middle;\n",
       "    }\n",
       "\n",
       "    .dataframe tbody tr th {\n",
       "        vertical-align: top;\n",
       "    }\n",
       "\n",
       "    .dataframe thead th {\n",
       "        text-align: right;\n",
       "    }\n",
       "</style>\n",
       "<table border=\"1\" class=\"dataframe\">\n",
       "  <thead>\n",
       "    <tr style=\"text-align: right;\">\n",
       "      <th></th>\n",
       "      <th>DATE</th>\n",
       "      <th>DCOILWTICO</th>\n",
       "    </tr>\n",
       "  </thead>\n",
       "  <tbody>\n",
       "    <tr>\n",
       "      <th>0</th>\n",
       "      <td>2019-08-19</td>\n",
       "      <td>56.24</td>\n",
       "    </tr>\n",
       "    <tr>\n",
       "      <th>1</th>\n",
       "      <td>2019-08-20</td>\n",
       "      <td>56.18</td>\n",
       "    </tr>\n",
       "    <tr>\n",
       "      <th>2</th>\n",
       "      <td>2019-08-21</td>\n",
       "      <td>55.65</td>\n",
       "    </tr>\n",
       "    <tr>\n",
       "      <th>3</th>\n",
       "      <td>2019-08-22</td>\n",
       "      <td>55.33</td>\n",
       "    </tr>\n",
       "    <tr>\n",
       "      <th>4</th>\n",
       "      <td>2019-08-23</td>\n",
       "      <td>54.08</td>\n",
       "    </tr>\n",
       "  </tbody>\n",
       "</table>\n",
       "</div>"
      ],
      "text/plain": [
       "         DATE DCOILWTICO\n",
       "0  2019-08-19      56.24\n",
       "1  2019-08-20      56.18\n",
       "2  2019-08-21      55.65\n",
       "3  2019-08-22      55.33\n",
       "4  2019-08-23      54.08"
      ]
     },
     "execution_count": 186,
     "metadata": {},
     "output_type": "execute_result"
    }
   ],
   "source": [
    "#PAIR UNIT 38 Q1\n",
    "import pandas as pd\n",
    "import datetime \n",
    "df = pd.read_csv(\"DCOILWTICO.csv\")\n",
    "df.head()"
   ]
  },
  {
   "cell_type": "code",
   "execution_count": null,
   "id": "54ca89b4-2cfa-4760-98d9-e6eed51ac4ba",
   "metadata": {},
   "outputs": [
    {
     "name": "stdout",
     "output_type": "stream",
     "text": [
      "<class 'pandas.core.frame.DataFrame'>\n",
      "RangeIndex: 1306 entries, 0 to 1305\n",
      "Data columns (total 2 columns):\n",
      " #   Column      Non-Null Count  Dtype \n",
      "---  ------      --------------  ----- \n",
      " 0   DATE        1306 non-null   object\n",
      " 1   DCOILWTICO  1306 non-null   object\n",
      "dtypes: object(2)\n",
      "memory usage: 20.5+ KB\n"
     ]
    }
   ],
   "source": [
    "df.info()"
   ]
  },
  {
   "cell_type": "code",
   "execution_count": null,
   "id": "ae91233e-5b02-4497-bffc-430cb3366ba6",
   "metadata": {},
   "outputs": [],
   "source": [
    "import pandas as pd\n",
    "\n",
    "df['MY_DATE'] = pd.to_datetime(df['DATE'])\n",
    "df['MY_DATE']"
   ]
  },
  {
   "cell_type": "code",
   "execution_count": null,
   "id": "0c70a660-ea83-4601-baf4-cfe3b18aba33",
   "metadata": {},
   "outputs": [
    {
     "data": {
      "text/html": [
       "<div>\n",
       "<style scoped>\n",
       "    .dataframe tbody tr th:only-of-type {\n",
       "        vertical-align: middle;\n",
       "    }\n",
       "\n",
       "    .dataframe tbody tr th {\n",
       "        vertical-align: top;\n",
       "    }\n",
       "\n",
       "    .dataframe thead th {\n",
       "        text-align: right;\n",
       "    }\n",
       "</style>\n",
       "<table border=\"1\" class=\"dataframe\">\n",
       "  <thead>\n",
       "    <tr style=\"text-align: right;\">\n",
       "      <th></th>\n",
       "      <th>DATE</th>\n",
       "      <th>DCOILWTICO</th>\n",
       "      <th>N_DATE</th>\n",
       "    </tr>\n",
       "  </thead>\n",
       "  <tbody>\n",
       "    <tr>\n",
       "      <th>0</th>\n",
       "      <td>2019-08-19</td>\n",
       "      <td>56.24</td>\n",
       "      <td>2019-08-19</td>\n",
       "    </tr>\n",
       "    <tr>\n",
       "      <th>1</th>\n",
       "      <td>2019-08-20</td>\n",
       "      <td>56.18</td>\n",
       "      <td>2019-08-20</td>\n",
       "    </tr>\n",
       "    <tr>\n",
       "      <th>2</th>\n",
       "      <td>2019-08-21</td>\n",
       "      <td>55.65</td>\n",
       "      <td>2019-08-21</td>\n",
       "    </tr>\n",
       "    <tr>\n",
       "      <th>3</th>\n",
       "      <td>2019-08-22</td>\n",
       "      <td>55.33</td>\n",
       "      <td>2019-08-22</td>\n",
       "    </tr>\n",
       "    <tr>\n",
       "      <th>4</th>\n",
       "      <td>2019-08-23</td>\n",
       "      <td>54.08</td>\n",
       "      <td>2019-08-23</td>\n",
       "    </tr>\n",
       "  </tbody>\n",
       "</table>\n",
       "</div>"
      ],
      "text/plain": [
       "         DATE DCOILWTICO     N_DATE\n",
       "0  2019-08-19      56.24 2019-08-19\n",
       "1  2019-08-20      56.18 2019-08-20\n",
       "2  2019-08-21      55.65 2019-08-21\n",
       "3  2019-08-22      55.33 2019-08-22\n",
       "4  2019-08-23      54.08 2019-08-23"
      ]
     },
     "execution_count": 189,
     "metadata": {},
     "output_type": "execute_result"
    }
   ],
   "source": [
    "df.head()"
   ]
  },
  {
   "cell_type": "code",
   "execution_count": null,
   "id": "c00b4166-c780-4f58-bc4d-8e3764d49c26",
   "metadata": {},
   "outputs": [
    {
     "data": {
      "text/html": [
       "<div>\n",
       "<style scoped>\n",
       "    .dataframe tbody tr th:only-of-type {\n",
       "        vertical-align: middle;\n",
       "    }\n",
       "\n",
       "    .dataframe tbody tr th {\n",
       "        vertical-align: top;\n",
       "    }\n",
       "\n",
       "    .dataframe thead th {\n",
       "        text-align: right;\n",
       "    }\n",
       "</style>\n",
       "<table border=\"1\" class=\"dataframe\">\n",
       "  <thead>\n",
       "    <tr style=\"text-align: right;\">\n",
       "      <th></th>\n",
       "      <th>DCOILWTICO</th>\n",
       "      <th>N_DATE</th>\n",
       "    </tr>\n",
       "  </thead>\n",
       "  <tbody>\n",
       "    <tr>\n",
       "      <th>0</th>\n",
       "      <td>56.24</td>\n",
       "      <td>2019-08-19</td>\n",
       "    </tr>\n",
       "    <tr>\n",
       "      <th>1</th>\n",
       "      <td>56.18</td>\n",
       "      <td>2019-08-20</td>\n",
       "    </tr>\n",
       "    <tr>\n",
       "      <th>2</th>\n",
       "      <td>55.65</td>\n",
       "      <td>2019-08-21</td>\n",
       "    </tr>\n",
       "    <tr>\n",
       "      <th>3</th>\n",
       "      <td>55.33</td>\n",
       "      <td>2019-08-22</td>\n",
       "    </tr>\n",
       "    <tr>\n",
       "      <th>4</th>\n",
       "      <td>54.08</td>\n",
       "      <td>2019-08-23</td>\n",
       "    </tr>\n",
       "  </tbody>\n",
       "</table>\n",
       "</div>"
      ],
      "text/plain": [
       "  DCOILWTICO     N_DATE\n",
       "0      56.24 2019-08-19\n",
       "1      56.18 2019-08-20\n",
       "2      55.65 2019-08-21\n",
       "3      55.33 2019-08-22\n",
       "4      54.08 2019-08-23"
      ]
     },
     "execution_count": 190,
     "metadata": {},
     "output_type": "execute_result"
    }
   ],
   "source": [
    "new_df = df.drop(['DATE'], axis = 1)\n",
    "new_df.head()"
   ]
  },
  {
   "cell_type": "code",
   "execution_count": null,
   "id": "0b8e2091-69a9-4a50-bf14-371fffd7476b",
   "metadata": {},
   "outputs": [
    {
     "data": {
      "text/html": [
       "<div>\n",
       "<style scoped>\n",
       "    .dataframe tbody tr th:only-of-type {\n",
       "        vertical-align: middle;\n",
       "    }\n",
       "\n",
       "    .dataframe tbody tr th {\n",
       "        vertical-align: top;\n",
       "    }\n",
       "\n",
       "    .dataframe thead th {\n",
       "        text-align: right;\n",
       "    }\n",
       "</style>\n",
       "<table border=\"1\" class=\"dataframe\">\n",
       "  <thead>\n",
       "    <tr style=\"text-align: right;\">\n",
       "      <th></th>\n",
       "      <th>DCOILWTICO</th>\n",
       "    </tr>\n",
       "    <tr>\n",
       "      <th>N_DATE</th>\n",
       "      <th></th>\n",
       "    </tr>\n",
       "  </thead>\n",
       "  <tbody>\n",
       "    <tr>\n",
       "      <th>2019-08-19</th>\n",
       "      <td>56.24</td>\n",
       "    </tr>\n",
       "    <tr>\n",
       "      <th>2019-08-20</th>\n",
       "      <td>56.18</td>\n",
       "    </tr>\n",
       "    <tr>\n",
       "      <th>2019-08-21</th>\n",
       "      <td>55.65</td>\n",
       "    </tr>\n",
       "    <tr>\n",
       "      <th>2019-08-22</th>\n",
       "      <td>55.33</td>\n",
       "    </tr>\n",
       "    <tr>\n",
       "      <th>2019-08-23</th>\n",
       "      <td>54.08</td>\n",
       "    </tr>\n",
       "  </tbody>\n",
       "</table>\n",
       "</div>"
      ],
      "text/plain": [
       "           DCOILWTICO\n",
       "N_DATE               \n",
       "2019-08-19      56.24\n",
       "2019-08-20      56.18\n",
       "2019-08-21      55.65\n",
       "2019-08-22      55.33\n",
       "2019-08-23      54.08"
      ]
     },
     "execution_count": 191,
     "metadata": {},
     "output_type": "execute_result"
    }
   ],
   "source": [
    "new_df.set_index('MY_DATE', inplace = True)\n",
    "new_df.head()"
   ]
  },
  {
   "cell_type": "code",
   "execution_count": null,
   "id": "1659775d-844f-4481-a6ae-148eb18705a6",
   "metadata": {},
   "outputs": [
    {
     "name": "stdout",
     "output_type": "stream",
     "text": [
      "<class 'pandas.core.frame.DataFrame'>\n",
      "DatetimeIndex: 1306 entries, 2019-08-19 to 2024-08-19\n",
      "Data columns (total 1 columns):\n",
      " #   Column      Non-Null Count  Dtype \n",
      "---  ------      --------------  ----- \n",
      " 0   DCOILWTICO  1306 non-null   object\n",
      "dtypes: object(1)\n",
      "memory usage: 20.4+ KB\n"
     ]
    }
   ],
   "source": [
    "new_df.info()"
   ]
  },
  {
   "cell_type": "code",
   "execution_count": null,
   "id": "fecf1b86-153e-4354-a781-722061fcd1eb",
   "metadata": {},
   "outputs": [
    {
     "data": {
      "text/html": [
       "<div>\n",
       "<style scoped>\n",
       "    .dataframe tbody tr th:only-of-type {\n",
       "        vertical-align: middle;\n",
       "    }\n",
       "\n",
       "    .dataframe tbody tr th {\n",
       "        vertical-align: top;\n",
       "    }\n",
       "\n",
       "    .dataframe thead th {\n",
       "        text-align: right;\n",
       "    }\n",
       "</style>\n",
       "<table border=\"1\" class=\"dataframe\">\n",
       "  <thead>\n",
       "    <tr style=\"text-align: right;\">\n",
       "      <th></th>\n",
       "      <th>DCOILWTICO</th>\n",
       "    </tr>\n",
       "    <tr>\n",
       "      <th>N_DATE</th>\n",
       "      <th></th>\n",
       "    </tr>\n",
       "  </thead>\n",
       "  <tbody>\n",
       "    <tr>\n",
       "      <th>2019-08-19</th>\n",
       "      <td>56.24</td>\n",
       "    </tr>\n",
       "    <tr>\n",
       "      <th>2019-08-20</th>\n",
       "      <td>56.18</td>\n",
       "    </tr>\n",
       "    <tr>\n",
       "      <th>2019-08-21</th>\n",
       "      <td>55.65</td>\n",
       "    </tr>\n",
       "    <tr>\n",
       "      <th>2019-08-22</th>\n",
       "      <td>55.33</td>\n",
       "    </tr>\n",
       "    <tr>\n",
       "      <th>2019-08-23</th>\n",
       "      <td>54.08</td>\n",
       "    </tr>\n",
       "  </tbody>\n",
       "</table>\n",
       "</div>"
      ],
      "text/plain": [
       "           DCOILWTICO\n",
       "N_DATE               \n",
       "2019-08-19      56.24\n",
       "2019-08-20      56.18\n",
       "2019-08-21      55.65\n",
       "2019-08-22      55.33\n",
       "2019-08-23      54.08"
      ]
     },
     "execution_count": 195,
     "metadata": {},
     "output_type": "execute_result"
    }
   ],
   "source": [
    "new_df['2019-08-19': '2019-08-23']"
   ]
  },
  {
   "cell_type": "code",
   "execution_count": null,
   "id": "a21b43bf",
   "metadata": {},
   "outputs": [],
   "source": [
    "df.info()"
   ]
  }
 ],
 "metadata": {
  "kernelspec": {
   "display_name": "Python 3 (ipykernel)",
   "language": "python",
   "name": "python3"
  },
  "language_info": {
   "codemirror_mode": {
    "name": "ipython",
    "version": 3
   },
   "file_extension": ".py",
   "mimetype": "text/x-python",
   "name": "python",
   "nbconvert_exporter": "python",
   "pygments_lexer": "ipython3",
   "version": "3.11.2"
  }
 },
 "nbformat": 4,
 "nbformat_minor": 5
}
