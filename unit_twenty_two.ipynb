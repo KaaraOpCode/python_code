{
 "cells": [
  {
   "cell_type": "markdown",
   "metadata": {},
   "source": [
    "Stack Class"
   ]
  },
  {
   "cell_type": "code",
   "execution_count": 1,
   "metadata": {},
   "outputs": [
    {
     "name": "stdout",
     "output_type": "stream",
     "text": [
      "Is stack empty? True\n",
      "Pushing items onto the stack...\n",
      "Stack size: 3\n",
      "Top item of the stack (peek): 3\n",
      "Popping items from the stack...\n",
      "Popped item: 3\n",
      "Stack size after pop: 2\n",
      "Popping all items from the stack...\n",
      "Popped item: 2\n",
      "Popped item: 1\n",
      "Is stack empty after popping all items? True\n",
      "Trying to pop from an empty stack...\n",
      "pop from empty stack\n",
      "Trying to peek into an empty stack...\n",
      "peek from empty stack\n"
     ]
    }
   ],
   "source": [
    "class Stack:\n",
    "    def __init__(self):\n",
    "        self.stack = []\n",
    "\n",
    "    def push(self, item):\n",
    "        self.stack.append(item)\n",
    "\n",
    "    def pop(self):\n",
    "        if not self.is_empty():\n",
    "            return self.stack.pop()\n",
    "        else:\n",
    "            raise IndexError(\"pop from empty stack\")\n",
    "\n",
    "    def peek(self):\n",
    "        if not self.is_empty():\n",
    "            return self.stack[-1]\n",
    "        else:\n",
    "            raise IndexError(\"peek from empty stack\")\n",
    "\n",
    "    def is_empty(self):\n",
    "        return len(self.stack) == 0\n",
    "\n",
    "    def size(self):\n",
    "        return len(self.stack)\n",
    "\n",
    "# Example usage of the Stack class\n",
    "if __name__ == \"__main__\":\n",
    "    s = Stack()\n",
    "\n",
    "    print(\"Is stack empty?\", s.is_empty())  # True\n",
    "\n",
    "    print(\"Pushing items onto the stack...\")\n",
    "    s.push(1)\n",
    "    s.push(2)\n",
    "    s.push(3)\n",
    "    print(\"Stack size:\", s.size())  # 3\n",
    "\n",
    "    print(\"Top item of the stack (peek):\", s.peek())  # 3\n",
    "\n",
    "    print(\"Popping items from the stack...\")\n",
    "    print(\"Popped item:\", s.pop())  # 3\n",
    "    print(\"Stack size after pop:\", s.size())  # 2\n",
    "\n",
    "    print(\"Popping all items from the stack...\")\n",
    "    print(\"Popped item:\", s.pop())  # 2\n",
    "    print(\"Popped item:\", s.pop())  # 1\n",
    "    print(\"Is stack empty after popping all items?\", s.is_empty())  # True\n",
    "\n",
    "    print(\"Trying to pop from an empty stack...\")\n",
    "    try:\n",
    "        s.pop()\n",
    "    except IndexError as e:\n",
    "        print(e)  # pop from empty stack\n",
    "\n",
    "    print(\"Trying to peek into an empty stack...\")\n",
    "    try:\n",
    "        s.peek()\n",
    "    except IndexError as e:\n",
    "        print(e)  # peek from empty stack\n"
   ]
  },
  {
   "cell_type": "markdown",
   "metadata": {},
   "source": [
    "Pop Quiz 1 "
   ]
  },
  {
   "cell_type": "code",
   "execution_count": null,
   "metadata": {},
   "outputs": [],
   "source": []
  },
  {
   "cell_type": "markdown",
   "metadata": {},
   "source": [
    "Pair Programming"
   ]
  },
  {
   "cell_type": "code",
   "execution_count": 18,
   "metadata": {},
   "outputs": [
    {
     "name": "stdout",
     "output_type": "stream",
     "text": [
      "['<html>', '<body>', '<h1>', '</h1>', '<p>', '</p>', '<ul>', '<li>', '</li>', '<li>', '</li>', '<li>', '</li>', '</ul>', '</body>', '</html>']\n",
      "All tags match correctly!\n"
     ]
    }
   ],
   "source": [
    "text = \"\"\"\n",
    "<html> \n",
    "<body> \n",
    "<h1>Hello, World</h1> \n",
    "<p>We are learning the art of coding \n",
    "with python Programming Language. </p> \n",
    "<ul>\n",
    "    <li> Data Structures</li>\n",
    "    <li> Algorithms</li>\n",
    "    <li> and Computational Thinking, eventually</li>\n",
    "</ul>\n",
    "</body> \n",
    "</html>\n",
    "\"\"\"\n",
    "\n",
    "\"\"\"def extract_tags(text):\n",
    "    tags = []\n",
    "    start = text.find('<')\n",
    "    while start != -1:\n",
    "        end = text.find('>', start + 1)\n",
    "        tag = text[start:end+1]\n",
    "        tags.append(tag)\n",
    "        start = text.find('<', end + 1)\n",
    "    return tags\n",
    "\"\"\"\n",
    "def extract_tags(html):\n",
    "    tags = []\n",
    "    i = 0\n",
    "    while i < len(html):\n",
    "        if html[i] == '<':\n",
    "            j = i\n",
    "            while j < len(html) and html[j] != '>':\n",
    "                j += 1\n",
    "            if j < len(html):\n",
    "                tags.append(html[i:j+1])\n",
    "            i = j\n",
    "        i += 1\n",
    "    return tags\n",
    "\n",
    "print(extract_tags(text))\n",
    "\n",
    "def is_matching_pair(opening_tag, closing_tag):\n",
    "    return opening_tag[1:] == closing_tag[2:]\n",
    "\n",
    "def validate_html_tags(html):\n",
    "    tags = extract_tags(html)\n",
    "    stack = []\n",
    "    for tag in tags:\n",
    "        if tag[1] != '/':  # Opening tag\n",
    "            stack.append(tag)\n",
    "        else:  # Closing tag\n",
    "            if len(stack) == 0 or not is_matching_pair(stack.pop(), tag):\n",
    "                return False\n",
    "    return len(stack) == 0\n",
    "\n",
    "if validate_html_tags(text):\n",
    "    print(\"All tags match correctly!\")\n",
    "else:\n",
    "    print(\"There are mismatched tags.\")\n"
   ]
  }
 ],
 "metadata": {
  "kernelspec": {
   "display_name": "Python 3",
   "language": "python",
   "name": "python3"
  },
  "language_info": {
   "codemirror_mode": {
    "name": "ipython",
    "version": 3
   },
   "file_extension": ".py",
   "mimetype": "text/x-python",
   "name": "python",
   "nbconvert_exporter": "python",
   "pygments_lexer": "ipython3",
   "version": "3.12.3"
  }
 },
 "nbformat": 4,
 "nbformat_minor": 2
}
