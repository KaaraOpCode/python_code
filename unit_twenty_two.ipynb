{
 "cells": [
  {
   "cell_type": "markdown",
   "metadata": {},
   "source": [
    "Pop Quiz 1 "
   ]
  },
  {
   "cell_type": "code",
   "execution_count": null,
   "metadata": {},
   "outputs": [],
   "source": []
  },
  {
   "cell_type": "markdown",
   "metadata": {},
   "source": [
    "Pair Programming"
   ]
  },
  {
   "cell_type": "code",
   "execution_count": 18,
   "metadata": {},
   "outputs": [
    {
     "name": "stdout",
     "output_type": "stream",
     "text": [
      "['<html>', '<body>', '<h1>', '</h1>', '<p>', '</p>', '<ul>', '<li>', '</li>', '<li>', '</li>', '<li>', '</li>', '</ul>', '</body>', '</html>']\n",
      "All tags match correctly!\n"
     ]
    }
   ],
   "source": [
    "text = \"\"\"\n",
    "<html> \n",
    "<body> \n",
    "<h1>Hello, World</h1> \n",
    "<p>We are learning the art of coding \n",
    "with python Programming Language. </p> \n",
    "<ul>\n",
    "    <li> Data Structures</li>\n",
    "    <li> Algorithms</li>\n",
    "    <li> and Computational Thinking, eventually</li>\n",
    "</ul>\n",
    "</body> \n",
    "</html>\n",
    "\"\"\"\n",
    "\n",
    "\"\"\"def extract_tags(text):\n",
    "    tags = []\n",
    "    start = text.find('<')\n",
    "    while start != -1:\n",
    "        end = text.find('>', start + 1)\n",
    "        tag = text[start:end+1]\n",
    "        tags.append(tag)\n",
    "        start = text.find('<', end + 1)\n",
    "    return tags\n",
    "\"\"\"\n",
    "def extract_tags(html):\n",
    "    tags = []\n",
    "    i = 0\n",
    "    while i < len(html):\n",
    "        if html[i] == '<':\n",
    "            j = i\n",
    "            while j < len(html) and html[j] != '>':\n",
    "                j += 1\n",
    "            if j < len(html):\n",
    "                tags.append(html[i:j+1])\n",
    "            i = j\n",
    "        i += 1\n",
    "    return tags\n",
    "\n",
    "print(extract_tags(text))\n",
    "\n",
    "def is_matching_pair(opening_tag, closing_tag):\n",
    "    return opening_tag[1:] == closing_tag[2:]\n",
    "\n",
    "def validate_html_tags(html):\n",
    "    tags = extract_tags(html)\n",
    "    stack = []\n",
    "    for tag in tags:\n",
    "        if tag[1] != '/':  # Opening tag\n",
    "            stack.append(tag)\n",
    "        else:  # Closing tag\n",
    "            if len(stack) == 0 or not is_matching_pair(stack.pop(), tag):\n",
    "                return False\n",
    "    return len(stack) == 0\n",
    "\n",
    "if validate_html_tags(text):\n",
    "    print(\"All tags match correctly!\")\n",
    "else:\n",
    "    print(\"There are mismatched tags.\")\n"
   ]
  }
 ],
 "metadata": {
  "kernelspec": {
   "display_name": "Python 3",
   "language": "python",
   "name": "python3"
  },
  "language_info": {
   "codemirror_mode": {
    "name": "ipython",
    "version": 3
   },
   "file_extension": ".py",
   "mimetype": "text/x-python",
   "name": "python",
   "nbconvert_exporter": "python",
   "pygments_lexer": "ipython3",
   "version": "3.12.3"
  }
 },
 "nbformat": 4,
 "nbformat_minor": 2
}
