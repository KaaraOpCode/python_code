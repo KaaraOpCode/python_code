{
 "cells": [
  {
   "cell_type": "markdown",
   "metadata": {},
   "source": [
    "Unit 31"
   ]
  },
  {
   "cell_type": "markdown",
   "metadata": {},
   "source": [
    "Quiz 1"
   ]
  },
  {
   "cell_type": "code",
   "execution_count": null,
   "metadata": {},
   "outputs": [],
   "source": []
  },
  {
   "cell_type": "markdown",
   "metadata": {},
   "source": [
    "Pair Programming\n",
    "Q1"
   ]
  },
  {
   "cell_type": "code",
   "execution_count": null,
   "metadata": {},
   "outputs": [],
   "source": [
    "count = 0\n",
    "def find_heaviest_coin(coins):\n",
    "    global count \n",
    "    count += 1\n",
    "    if len(coins) == 1:\n",
    "        return coins[0]\n",
    "    else:\n",
    "        mid = len(coins)//2\n",
    "        left = coins[:mid]\n",
    "        right = coins[mid:]\n",
    "        left_weight = sum([coin.get('weight') for coin in left])\n",
    "        right_weight = sum([coin.get('weight') for coin in right])\n",
    "        \n",
    "        if left_weight > right_weight:\n",
    "            return find_heaviest_coin(left)\n",
    "        elif left_weight < right_weight:\n",
    "            return find_heaviest_coin(right)\n",
    "        else:\n",
    "            return find_heaviest_coin(coins[len(coins)//2:])\n",
    "coins = [\n",
    "    \n",
    "        {'coins' : 1 , 'weight': 1},\n",
    "        {'coins' : 2 , 'weight': 2},\n",
    "        {'coins' : 3 , 'weight': 3},\n",
    "        {'coins' : 4 , 'weight': 4},\n",
    "        {'coins' : 5 , 'weight': 5},\n",
    "        {'coins' : 6 , 'weight': 6},\n",
    "        {'coins' : 7 , 'weight': 7},\n",
    "        {'coins' : 8 , 'weight': 8},\n",
    "        #{'coins' : 9 , 'weight': 9}\n",
    "    \n",
    "]\n",
    "       \n",
    "        \n",
    "\n",
    "coin = find_heaviest_coin(coins)\n",
    "print(coin, \" \", count)\n",
    "        "
   ]
  }
 ],
 "metadata": {
  "language_info": {
   "name": "python"
  }
 },
 "nbformat": 4,
 "nbformat_minor": 2
}
