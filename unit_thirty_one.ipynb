{
 "cells": [
  {
   "cell_type": "code",
   "execution_count": null,
   "metadata": {},
   "outputs": [
    {
     "ename": "",
     "evalue": "",
     "output_type": "error",
     "traceback": [
      "\u001b[1;31mRunning cells with '/bin/python3' requires the ipykernel package.\n",
      "\u001b[1;31mRun the following command to install 'ipykernel' into the Python environment. \n",
      "\u001b[1;31mCommand: '/bin/python3 -m pip install ipykernel -U --user --force-reinstall'"
     ]
    }
   ],
   "source": [
    "def coin_change(coins, amount):\n",
    "    changes =[]\n",
    "    first = 0\n",
    "    while amount > 0:\n",
    "        if amount < coins[first]:\n",
    "            first += 1\n",
    "        else:\n",
    "            changes.append(coins[first])\n",
    "            amount -= coins[first]\n",
    "            coins.pop(0)\n",
    "            \n",
    "    return changes\n",
    "                       \n",
    "coins = [500, 100, 50, 50, 50, 10, 10]\n",
    "amount = 710\n",
    "changes = coin_change(coins, amount)\n",
    "print(changes, len(changes))"
   ]
  },
  {
   "cell_type": "code",
   "execution_count": 21,
   "metadata": {},
   "outputs": [],
   "source": [
    "def coin_change(coins, amount):\n",
    "    changes =[]\n",
    "    first = 0\n",
    "    while amount > 0:\n",
    "        if amount < coins[first]:\n",
    "            first += 1\n",
    "        else: \n",
    "            changes.append(coins[first])\n",
    "            amount -= coins[first]\n",
    "            coins.pop(0)\n",
    "            \n",
    "    return changes\n",
    "\n",
    "coins = list(map(int,input(\"Input the coins : \").split()))\n",
    "coins.sort(reverse = True)\n",
    "print(coins)\n",
    "amount = int(input(\"enter the amount : \"))                                                                                                                      \n",
    "changes = coin_change(coins, amount)\n",
    "print(changes, len(changes))\n",
    "    \n"
   ]
  },
  {
   "cell_type": "markdown",
   "metadata": {},
   "source": [
    "PAIR PROGRAMMING UNIT 31"
   ]
  },
  {
   "cell_type": "code",
   "execution_count": 20,
   "metadata": {},
   "outputs": [
    {
     "name": "stdout",
     "output_type": "stream",
     "text": [
      "[[1, 1, 0, 0], [1, 1, 1, 0], [0, 0, 0, 0], [0, 0, 0, 0]]\n"
     ]
    }
   ],
   "source": [
    "def tromino_tiling(board, n, top_col, top_row, mis_col, mis_row):\n",
    "    if n == 2:\n",
    "        tile = 1\n",
    "        for r in range(2):\n",
    "            for c in range(2):\n",
    "                if top_row + r != mis_row or top_col + c != mis_col:\n",
    "                    board[top_row + r][top_col + c] = tile\n",
    "        return \n",
    "    \n",
    "    mid = n//2\n",
    "    \n",
    "    center_row, center_col = top_row + mid, top_col + mid\n",
    "    # determine missing tile\n",
    "    if mis_row < center_row and mis_col < center_col:\n",
    "        quadrant = 1\n",
    "        \n",
    "    if mis_row < center_row and mis_col >= center_col:\n",
    "        quadrant = 2\n",
    "        \n",
    "    if mis_row >= center_row and mis_col < center_col:\n",
    "        quadrant = 3\n",
    "        \n",
    "    else:\n",
    "        quadrant = 4\n",
    "    # place L on the center    \n",
    "    if quadrant != 1:\n",
    "        board[center_row -1][center_col] = 1\n",
    "    \n",
    "    if quadrant != 2:\n",
    "        board[center_row - 1][center_col] = 1\n",
    "    \n",
    "    if quadrant != 3:\n",
    "        board[center_row - 1][center_col] = 1\n",
    "    \n",
    "    if quadrant != 4:\n",
    "        board[center_row - 1][center_col] = 1\n",
    "    \n",
    "    # recursive calls for 4 quadrants\n",
    "    tromino_tiling(board, mid, top_col, top_row, mis_row if quadrant == 1 else center_row - 1, mis_col if quadrant == 1 else center_col - 1 )\n",
    "    \n",
    "    tromino_tiling(board, mid, top_col, top_row, mis_row if quadrant == 2 else center_row - 1, mis_col if quadrant == 2 else center_col )\n",
    "\n",
    "    tromino_tiling(board, mid, top_col, top_row, mis_row if quadrant == 3 else center_row , mis_col if quadrant == 3 else center_col - 1)\n",
    "\n",
    "    tromino_tiling(board, mid, top_col, top_row, mis_row if quadrant == 4 else center_row , mis_col if quadrant == 4 else center_col )\n",
    "\n",
    "\n",
    "def print_board(board):\n",
    "    for row in board:\n",
    "        print(' '.join(str))\n",
    "    print()\n",
    "    \n",
    "def solve_tromino(n, mis_row, mis_col):\n",
    "    board = [[0 for _ in range(n)]  for _ in range(n)]\n",
    "    tromino_tiling(board, n, 0, 0, mis_col, mis_row)\n",
    "    print(board)\n",
    "\n",
    "n = 4\n",
    "mis_row, mis_col = 0, 1\n",
    "solve_tromino(n, mis_row, mis_col)\n",
    "\n",
    "            \n",
    "\n",
    "    \n",
    "    \n",
    "    \n",
    "                                      "
   ]
  },
  {
   "cell_type": "code",
   "execution_count": 22,
   "metadata": {},
   "outputs": [
    {
     "name": "stdout",
     "output_type": "stream",
     "text": [
      "1 1 1 1 1 1 1 1\n",
      "1 1 1 1 1 1 1 1\n",
      "1 1 1 1 1 1 1 1\n",
      "1 1 1 1 1 0 1 1\n",
      "1 1 1 1 1 1 1 1\n",
      "1 1 1 1 1 1 1 1\n",
      "1 1 1 1 1 1 1 1\n",
      "1 1 1 1 1 1 1 1\n",
      "\n"
     ]
    }
   ],
   "source": [
    "def tromino_tiling(board, n, top_col, top_row, mis_col, mis_row):\n",
    "    if n == 2:\n",
    "        tile = 1\n",
    "        for r in range(2):\n",
    "            for c in range(2):\n",
    "                if top_row + r != mis_row or top_col + c != mis_col:\n",
    "                    board[top_row + r][top_col + c] = tile\n",
    "        return \n",
    "    \n",
    "    mid = n // 2\n",
    "    center_row, center_col = top_row + mid, top_col + mid\n",
    "\n",
    "    # Determine which quadrant the missing tile is in\n",
    "    if mis_row < center_row and mis_col < center_col:\n",
    "        quadrant = 1\n",
    "    elif mis_row < center_row and mis_col >= center_col:\n",
    "        quadrant = 2\n",
    "    elif mis_row >= center_row and mis_col < center_col:\n",
    "        quadrant = 3\n",
    "    else:\n",
    "        quadrant = 4\n",
    "\n",
    "    # Place the tromino in the center of the 4 quadrants\n",
    "    if quadrant != 1:\n",
    "        board[center_row - 1][center_col - 1] = 1\n",
    "    if quadrant != 2:\n",
    "        board[center_row - 1][center_col] = 1\n",
    "    if quadrant != 3:\n",
    "        board[center_row][center_col - 1] = 1\n",
    "    if quadrant != 4:\n",
    "        board[center_row][center_col] = 1\n",
    "\n",
    "    # Recursive calls for each quadrant\n",
    "    if quadrant == 1:\n",
    "        tromino_tiling(board, mid, top_col, top_row, mis_col, mis_row)\n",
    "    else:\n",
    "        tromino_tiling(board, mid, top_col, top_row, center_col - 1, center_row - 1)\n",
    "    \n",
    "    if quadrant == 2:\n",
    "        tromino_tiling(board, mid, center_col, top_row, mis_col, mis_row)\n",
    "    else:\n",
    "        tromino_tiling(board, mid, center_col, top_row, center_col, center_row - 1)\n",
    "\n",
    "    if quadrant == 3:\n",
    "        tromino_tiling(board, mid, top_col, center_row, mis_col, mis_row)\n",
    "    else:\n",
    "        tromino_tiling(board, mid, top_col, center_row, center_col - 1, center_row)\n",
    "\n",
    "    if quadrant == 4:\n",
    "        tromino_tiling(board, mid, center_col, center_row, mis_col, mis_row)\n",
    "    else:\n",
    "        tromino_tiling(board, mid, center_col, center_row, center_col, center_row)\n",
    "\n",
    "def print_board(board):\n",
    "    for row in board:\n",
    "        print(' '.join(str(col) for col in row))\n",
    "    print()\n",
    "    \n",
    "def solve_tromino(n, mis_row, mis_col):\n",
    "    board = [[0 for _ in range(n)] for _ in range(n)]\n",
    "    tromino_tiling(board, n, 0, 0, mis_col, mis_row)\n",
    "    print_board(board)\n",
    "\n",
    "n = 8\n",
    "mis_row, mis_col = 3, 5\n",
    "solve_tromino(n, mis_row, mis_col)"
   ]
  },
  {
   "cell_type": "code",
   "execution_count": 17,
   "metadata": {},
   "outputs": [
    {
     "name": "stdout",
     "output_type": "stream",
     "text": [
      "{'coins': 9, 'weight': 19}   5\n"
     ]
    }
   ],
   "source": [
    "count = 0\n",
    "def find_heaviest_coin(coins):\n",
    "    global count \n",
    "    count += 1\n",
    "    if len(coins) == 1:\n",
    "        return coins[0]\n",
    "    else:\n",
    "        mid = len(coins)//2\n",
    "        left = coins[:mid]\n",
    "        right = coins[mid:]\n",
    "        left_weight = sum([coin.get('weight') for coin in left])\n",
    "        right_weight = sum([coin.get('weight') for coin in right])\n",
    "        \n",
    "        if left_weight > right_weight:\n",
    "            return find_heaviest_coin(left)\n",
    "        elif left_weight < right_weight:\n",
    "            return find_heaviest_coin(right)\n",
    "        else:\n",
    "            return find_heaviest_coin(coins[len(coins)//2:])\n",
    "coins = [\n",
    "    \n",
    "        {'coins' : 1 , 'weight': 1},\n",
    "        {'coins' : 2 , 'weight': 2},\n",
    "        {'coins' : 3 , 'weight': 3},\n",
    "        {'coins' : 4 , 'weight': 4},\n",
    "        {'coins' : 5 , 'weight': 5},\n",
    "        {'coins' : 6 , 'weight': 6},\n",
    "        {'coins' : 7 , 'weight': 7},\n",
    "        {'coins' : 8 , 'weight': 18},\n",
    "        {'coins' : 9 , 'weight': 19}\n",
    "    \n",
    "]\n",
    "       \n",
    "        \n",
    "\n",
    "coin = find_heaviest_coin(coins)\n",
    "print(coin, \" \", count)\n",
    "        "
   ]
  },
  {
   "cell_type": "code",
   "execution_count": 18,
   "metadata": {},
   "outputs": [
    {
     "ename": "TypeError",
     "evalue": "binary_search2() missing 1 required positional argument: 'high'",
     "output_type": "error",
     "traceback": [
      "\u001b[1;31m---------------------------------------------------------------------------\u001b[0m",
      "\u001b[1;31mTypeError\u001b[0m                                 Traceback (most recent call last)",
      "Cell \u001b[1;32mIn[18], line 15\u001b[0m\n\u001b[0;32m     13\u001b[0m list1 \u001b[38;5;241m=\u001b[39m [\u001b[38;5;241m1\u001b[39m, \u001b[38;5;241m2\u001b[39m, \u001b[38;5;241m3\u001b[39m, \u001b[38;5;241m4\u001b[39m, \u001b[38;5;241m5\u001b[39m, \u001b[38;5;241m6\u001b[39m, \u001b[38;5;241m7\u001b[39m, \u001b[38;5;241m8\u001b[39m]\n\u001b[0;32m     14\u001b[0m x \u001b[38;5;241m=\u001b[39m \u001b[38;5;241m8\u001b[39m\n\u001b[1;32m---> 15\u001b[0m \u001b[38;5;28mprint\u001b[39m(\u001b[43mbinary_search2\u001b[49m\u001b[43m(\u001b[49m\u001b[43mlist1\u001b[49m\u001b[43m,\u001b[49m\u001b[43m \u001b[49m\u001b[43mx\u001b[49m\u001b[43m,\u001b[49m\u001b[43m \u001b[49m\u001b[38;5;241;43m0\u001b[39;49m\u001b[43m,\u001b[49m\u001b[43m \u001b[49m\u001b[38;5;28;43mlen\u001b[39;49m\u001b[43m(\u001b[49m\u001b[43mlist1\u001b[49m\u001b[43m)\u001b[49m\u001b[38;5;241;43m-\u001b[39;49m\u001b[38;5;241;43m1\u001b[39;49m\u001b[43m)\u001b[49m)\n",
      "Cell \u001b[1;32mIn[18], line 11\u001b[0m, in \u001b[0;36mbinary_search2\u001b[1;34m(list1, x, low, high)\u001b[0m\n\u001b[0;32m      9\u001b[0m     \u001b[38;5;28;01mreturn\u001b[39;00m binary_search2(list1, low, mid \u001b[38;5;241m-\u001b[39m\u001b[38;5;241m1\u001b[39m)\n\u001b[0;32m     10\u001b[0m \u001b[38;5;28;01melse\u001b[39;00m:\n\u001b[1;32m---> 11\u001b[0m     \u001b[38;5;28;01mreturn\u001b[39;00m \u001b[43mbinary_search2\u001b[49m\u001b[43m(\u001b[49m\u001b[43mlist1\u001b[49m\u001b[43m,\u001b[49m\u001b[43m \u001b[49m\u001b[43mmid\u001b[49m\u001b[43m \u001b[49m\u001b[38;5;241;43m+\u001b[39;49m\u001b[43m \u001b[49m\u001b[38;5;241;43m1\u001b[39;49m\u001b[43m,\u001b[49m\u001b[43m \u001b[49m\u001b[43mhigh\u001b[49m\u001b[43m)\u001b[49m\n",
      "\u001b[1;31mTypeError\u001b[0m: binary_search2() missing 1 required positional argument: 'high'"
     ]
    }
   ],
   "source": [
    "def binary_search2(list1, x, low, high):\n",
    "    if low > high:\n",
    "        return -1\n",
    "    else:\n",
    "        mid = (low + high)//2\n",
    "        if list1[mid] == x:\n",
    "            return x\n",
    "        elif list1[mid] > x:\n",
    "            return binary_search2(list1, low, mid -1)\n",
    "        else:\n",
    "            return binary_search2(list1, mid + 1, high)\n",
    "\n",
    "list1 = [1, 2, 3, 4, 5, 6, 7, 8]\n",
    "x = 8\n",
    "print(binary_search2(list1, x, 0, len(list1)-1))"
   ]
  }
 ],
 "metadata": {
  "kernelspec": {
   "display_name": "Python 3",
   "language": "python",
   "name": "python3"
  },
  "language_info": {
   "codemirror_mode": {
    "name": "ipython",
    "version": 3
   },
   "file_extension": ".py",
   "mimetype": "text/x-python",
   "name": "python",
   "nbconvert_exporter": "python",
   "pygments_lexer": "ipython3",
   "version": "3.11.2"
  }
 },
 "nbformat": 4,
 "nbformat_minor": 2
}
