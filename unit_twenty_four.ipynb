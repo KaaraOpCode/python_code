{
 "cells": [
  {
   "cell_type": "markdown",
   "metadata": {},
   "source": [
    "UNIT 24\n",
    "SEQUENTIAL SEARCH"
   ]
  },
  {
   "cell_type": "markdown",
   "metadata": {},
   "source": [
    "Check the floor an egg will break"
   ]
  },
  {
   "cell_type": "code",
   "execution_count": 1,
   "metadata": {},
   "outputs": [
    {
     "name": "stdout",
     "output_type": "stream",
     "text": [
      "Your egg will break on the 29-th floor\n",
      "Your egg will safe till the 28-th floor\n"
     ]
    }
   ],
   "source": [
    "from random import randint\n",
    "\n",
    "def do_experiment(floor, breaking):\n",
    "    return floor >=  breaking\n",
    "\n",
    "def find_highest_safe_floor(height, breaking):\n",
    "    for n in range(1, height + 1):\n",
    "        if do_experiment(n, breaking):\n",
    "            return n - 1\n",
    "    return height\n",
    "\n",
    "height = int(input(\"Input the number of floors: \"))\n",
    "breaking = randint(1, height)\n",
    "floor = find_highest_safe_floor(height, breaking)\n",
    "print(\"Your egg will break on the {}-th floor\".format(breaking))\n",
    "print(\"Your egg will safe till the {}-th floor\".format(floor))"
   ]
  },
  {
   "cell_type": "markdown",
   "metadata": {},
   "source": [
    "An algorithm for the sequential search"
   ]
  },
  {
   "cell_type": "code",
   "execution_count": 3,
   "metadata": {},
   "outputs": [
    {
     "name": "stdout",
     "output_type": "stream",
     "text": [
      "In S, 53 is at position 53\n"
     ]
    }
   ],
   "source": [
    "def seq_search(nums, x):\n",
    "    for i in range(len(nums)):\n",
    "        if x == nums[i]:\n",
    "            return i\n",
    "    return -1\n",
    "\n",
    "S = [11, 37, 45, 26, 59, 28, 17, 53]\n",
    "x = 53\n",
    "pos = seq_search(S, x)\n",
    "print(\"In S, {} is at position {}\".format(x, pos))"
   ]
  },
  {
   "cell_type": "markdown",
   "metadata": {},
   "source": [
    "Find largest"
   ]
  },
  {
   "cell_type": "code",
   "execution_count": 7,
   "metadata": {},
   "outputs": [
    {
     "name": "stdout",
     "output_type": "stream",
     "text": [
      "In S, 59 is at position 4\n"
     ]
    }
   ],
   "source": [
    "def find_largest(nums):\n",
    "    largest = 0\n",
    "    for i in range(1, len(nums)):\n",
    "        if nums[largest] < nums[i]:\n",
    "            largest = i\n",
    "    return largest\n",
    "\n",
    "nums = [11, 37, 45, 26, 59, 28, 17, 53]\n",
    "pos = find_largest(nums)\n",
    "print(\"In S, {} is at position {}\".format(nums[pos], pos))\n"
   ]
  },
  {
   "cell_type": "markdown",
   "metadata": {},
   "source": [
    "1. Pop Quiz"
   ]
  },
  {
   "cell_type": "code",
   "execution_count": 19,
   "metadata": {},
   "outputs": [
    {
     "name": "stdout",
     "output_type": "stream",
     "text": [
      "59 11 8\n"
     ]
    }
   ],
   "source": [
    "def find_two(nums):\n",
    "    x = y = 0\n",
    "    count = 1\n",
    "    for i in range(1, len(nums)):\n",
    "        count += 1\n",
    "        if nums[x] < nums[i]:\n",
    "            x = i\n",
    "            #count += 1\n",
    "        elif nums[y] > nums[i]:\n",
    "            y = i\n",
    "            #count += 1\n",
    "    return x, y, count\n",
    "\n",
    "nums = [11, 37, 45, 26, 59, 28, 17, 53]\n",
    "i, j, count = find_two(nums)\n",
    "print(nums[i], nums[j], f'{count}')"
   ]
  },
  {
   "cell_type": "markdown",
   "metadata": {},
   "source": [
    "2. Pop Quiz"
   ]
  },
  {
   "cell_type": "code",
   "execution_count": 4,
   "metadata": {},
   "outputs": [],
   "source": [
    "def word_count(sentence, word_search):\n",
    "    count = 0\n",
    "    for i in sentence:\n",
    "        if i == word_search:\n",
    "            count += 1\n",
    "    return count\n",
    "\n",
    "S = list(input(\"Input a sentence: \").split())\n",
    "x = input(\"Input a word to search: \")\n",
    "count = word_count(S, x)\n",
    "print(f\"In S, word \\\"{x}\\\" appeared in {count} times.\")"
   ]
  },
  {
   "cell_type": "markdown",
   "metadata": {},
   "source": [
    "Pair Programming"
   ]
  },
  {
   "cell_type": "code",
   "execution_count": 16,
   "metadata": {},
   "outputs": [
    {
     "name": "stdout",
     "output_type": "stream",
     "text": [
      "In S, word \"to\" appeared 3 times at indices: [2, 4, 6]\n"
     ]
    }
   ],
   "source": [
    "def word_count(sentence, word_search):\n",
    "    indices = []\n",
    "    for index, word in enumerate(sentence):\n",
    "        if word == word_search:\n",
    "            indices.append(index)\n",
    "    return indices\n",
    "\n",
    "S = input(\"Input a sentence: \").split()\n",
    "x = input(\"Input a word to search: \")\n",
    "indices = word_count(S, x)\n",
    "print(f'In S, word \"{x}\" appeared {len(indices)} times at indices: {indices}')\n"
   ]
  }
 ],
 "metadata": {
  "kernelspec": {
   "display_name": "Python 3",
   "language": "python",
   "name": "python3"
  },
  "language_info": {
   "codemirror_mode": {
    "name": "ipython",
    "version": 3
   },
   "file_extension": ".py",
   "mimetype": "text/x-python",
   "name": "python",
   "nbconvert_exporter": "python",
   "pygments_lexer": "ipython3",
   "version": "3.12.3"
  }
 },
 "nbformat": 4,
 "nbformat_minor": 2
}
