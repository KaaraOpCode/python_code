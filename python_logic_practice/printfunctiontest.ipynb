{
 "cells": [
  {
   "cell_type": "code",
   "execution_count": 8,
   "id": "1c149f41-c497-4e7b-b540-d434b4001e13",
   "metadata": {},
   "outputs": [
    {
     "name": "stdout",
     "output_type": "stream",
     "text": [
      "kaara\n",
      "neo\n",
      "thato\n"
     ]
    }
   ],
   "source": [
    "print(input(\"enter name: \"))\n",
    "print(input(\"enter name: \"))\n",
    "print(input(\"enter name: \"))"
   ]
  },
  {
   "cell_type": "raw",
   "id": "f0989694-2bfe-4cbe-a408-a508c061780c",
   "metadata": {},
   "source": [
    "print(\"thanks\", input(\"enter name: \"), \"and bye!\", end =\"\")"
   ]
  },
  {
   "cell_type": "code",
   "execution_count": 4,
   "id": "2454babd-bfba-40f7-b503-d9ae6b101e4a",
   "metadata": {},
   "outputs": [
    {
     "name": "stdout",
     "output_type": "stream",
     "text": [
      "1 2 3 4 5"
     ]
    }
   ],
   "source": [
    "print(*[1,2,3,4],5, end = '')"
   ]
  },
  {
   "cell_type": "code",
   "execution_count": 5,
   "id": "0da8301b-a8f7-48c9-b07a-9e8cfc3b5531",
   "metadata": {},
   "outputs": [
    {
     "name": "stdout",
     "output_type": "stream",
     "text": [
      "hhhhh kk\n"
     ]
    }
   ],
   "source": [
    "print('hhhhh', 'kk', sep = ' ')"
   ]
  },
  {
   "cell_type": "code",
   "execution_count": null,
   "id": "6eb708c8-2fde-40d3-84a4-94aa997d5aaf",
   "metadata": {},
   "outputs": [],
   "source": []
  }
 ],
 "metadata": {
  "kernelspec": {
   "display_name": "Python 3 (ipykernel)",
   "language": "python",
   "name": "python3"
  },
  "language_info": {
   "codemirror_mode": {
    "name": "ipython",
    "version": 3
   },
   "file_extension": ".py",
   "mimetype": "text/x-python",
   "name": "python",
   "nbconvert_exporter": "python",
   "pygments_lexer": "ipython3",
   "version": "3.12.3"
  }
 },
 "nbformat": 4,
 "nbformat_minor": 5
}
