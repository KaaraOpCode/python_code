{
 "cells": [
  {
   "cell_type": "markdown",
   "metadata": {},
   "source": [
    "Unit 25\n",
    "Binary Search"
   ]
  },
  {
   "cell_type": "markdown",
   "metadata": {},
   "source": [
    "Egg Problem"
   ]
  },
  {
   "cell_type": "code",
   "execution_count": 9,
   "metadata": {},
   "outputs": [
    {
     "name": "stdout",
     "output_type": "stream",
     "text": [
      "1 100 50\n",
      "***51***\n",
      "51 100 75\n",
      "***75***\n",
      "51 75 63\n",
      "***63***\n",
      "51 63 57\n",
      "***57***\n",
      "51 57 54\n",
      "***54***\n",
      "51 54 52\n",
      "***52***\n",
      "51 52 51\n",
      "***51***\n",
      "Your egg will break on the 51-th floor\n",
      "Your egg will safe till the 50-th floor\n"
     ]
    }
   ],
   "source": [
    "def do_experiment(floor, breaking):\n",
    "    return floor >= breaking\n",
    "\n",
    "def find_highest_safe_floor2(height, breaking):\n",
    "    low, high = 1, height\n",
    "    while low < high:\n",
    "        mid = (low + high) // 2\n",
    "        print(low,high,mid)\n",
    "        if do_experiment(mid, breaking):\n",
    "            high = mid\n",
    "            print(f'***{mid}***')\n",
    "        else:\n",
    "            low = mid + 1\n",
    "            print(f'***{low}***')\n",
    "    return low - 1\n",
    "\n",
    "height = int(input(\"Input the number of floors: \"))\n",
    "breaking = int(input(\"Input the first breaking floor: \"))\n",
    "floor = find_highest_safe_floor2(height, breaking)\n",
    "print(\"Your egg will break on the {}-th floor\".format(breaking))\n",
    "print(\"Your egg will safe till the {}-th floor\".format(floor))"
   ]
  },
  {
   "cell_type": "markdown",
   "metadata": {},
   "source": [
    "Key  Concept"
   ]
  },
  {
   "cell_type": "code",
   "execution_count": 26,
   "metadata": {},
   "outputs": [
    {
     "name": "stdout",
     "output_type": "stream",
     "text": [
      "In S, 17 is at position 1.\n"
     ]
    }
   ],
   "source": [
    "def bin_search(nums, x):\n",
    "    low, high = 0, len(nums) - 1\n",
    "    while low < high:\n",
    "        mid = (low + high) // 2\n",
    "        #print(low, mid, high)\n",
    "        if nums[mid] == x:\n",
    "            return mid\n",
    "        elif nums[mid] > x:\n",
    "            high = mid - 1\n",
    "        else:\n",
    "            low = mid + 1\n",
    "    return -1\n",
    "\n",
    "S = [11, 17, 26, 28, 37, 45, 53, 59]\n",
    "x = int(input(\"Input the number to search: \"))\n",
    "pos = bin_search(S, x)\n",
    "print(\"In S, {} is at position {}.\".format(x, pos))"
   ]
  },
  {
   "cell_type": "markdown",
   "metadata": {},
   "source": [
    "Pair Programming"
   ]
  },
  {
   "cell_type": "code",
   "execution_count": 24,
   "metadata": {},
   "outputs": [
    {
     "name": "stdout",
     "output_type": "stream",
     "text": [
      "1 50 100 1\n",
      "1 25 49 2\n",
      "Your number is 25.\n",
      "1 25 49 2\n",
      "Total 2 times are searched.\n"
     ]
    }
   ],
   "source": [
    "\n",
    "\n",
    "maximum = int(input(\"Enter the number of maximum: \"))\n",
    "number = int(input(\"Enter your guessing number: \"))\n",
    "count = 0\n",
    "low, high = 1, maximum\n",
    "while low < high:\n",
    "    mid = (low + high) // 2\n",
    "    count += 1\n",
    "    print(low, mid, high, count)\n",
    "    if mid == number:\n",
    "        print(\"Your number is {}.\".format(number))\n",
    "        break\n",
    "    elif mid > number:\n",
    "        high = mid - 1\n",
    "    else:\n",
    "        low = mid + 1\n",
    "print(low, mid, high, count)\n",
    "print(\"Total {} times are searched.\".format(count))"
   ]
  },
  {
   "cell_type": "markdown",
   "metadata": {},
   "source": [
    "Pair Programming"
   ]
  },
  {
   "cell_type": "code",
   "execution_count": 30,
   "metadata": {},
   "outputs": [
    {
     "name": "stdout",
     "output_type": "stream",
     "text": [
      "30 should be inserted at position 2.\n",
      "Updated list: [10, 20, 30, 40, 50, 60, 80]\n"
     ]
    }
   ],
   "source": [
    "def search_insert_position(nums, x):\n",
    "    low, high = 0, len(nums) - 1\n",
    "    while low <= high:\n",
    "        mid = (low + high) // 2\n",
    "        if nums[mid] == x:\n",
    "            return mid\n",
    "        elif nums[mid] < x:\n",
    "            low = mid + 1\n",
    "        else:\n",
    "            high = mid - 1\n",
    "    return low\n",
    "\n",
    "nums = [10, 20, 40, 50, 60, 80]\n",
    "\n",
    "x = int(input(\"Input a number to insert: \"))\n",
    "\n",
    "pos = search_insert_position(nums, x)\n",
    "\n",
    "nums.insert(pos, x)\n",
    "\n",
    "# Print the result\n",
    "print(f\"{x} should be inserted at position {pos}.\")\n",
    "print(f\"Updated list: {nums}\")\n"
   ]
  }
 ],
 "metadata": {
  "kernelspec": {
   "display_name": "Python 3",
   "language": "python",
   "name": "python3"
  },
  "language_info": {
   "codemirror_mode": {
    "name": "ipython",
    "version": 3
   },
   "file_extension": ".py",
   "mimetype": "text/x-python",
   "name": "python",
   "nbconvert_exporter": "python",
   "pygments_lexer": "ipython3",
   "version": "3.12.3"
  }
 },
 "nbformat": 4,
 "nbformat_minor": 2
}
