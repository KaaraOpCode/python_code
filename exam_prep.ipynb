{
 "cells": [
  {
   "cell_type": "markdown",
   "metadata": {},
   "source": [
    "Pre Test - Practical"
   ]
  },
  {
   "cell_type": "code",
   "execution_count": 5,
   "metadata": {},
   "outputs": [
    {
     "name": "stdout",
     "output_type": "stream",
     "text": [
      "defaultdict(<class 'int'>, {'a': 4, 'b': 3, 'c': 4})\n"
     ]
    }
   ],
   "source": [
    "from collections import defaultdict\n",
    "\n",
    "def countLetters (word):\n",
    "    counter = defaultdict(int)\n",
    "    for letter in word:\n",
    "        if letter == 'c':\n",
    "            counter[letter] += 2\n",
    "            continue\n",
    "        counter[letter] += 1\n",
    "    return counter\n",
    "\n",
    "a = countLetters('abcbaabca')\n",
    "print(a)"
   ]
  },
  {
   "cell_type": "code",
   "execution_count": 15,
   "metadata": {},
   "outputs": [
    {
     "name": "stdout",
     "output_type": "stream",
     "text": [
      "200\n",
      "counter  =  100\n"
     ]
    }
   ],
   "source": [
    "counter = 100\n",
    "def print_counter():\n",
    "    #global counter\n",
    "    counter = 200\n",
    "    return counter\n",
    "\n",
    "print(print_counter())\n",
    "\n",
    "print('counter  = ', counter)"
   ]
  },
  {
   "cell_type": "code",
   "execution_count": 5,
   "metadata": {},
   "outputs": [
    {
     "name": "stdout",
     "output_type": "stream",
     "text": [
      "dst_str =  bcdefghijklmnopqrstuvwxyza\n"
     ]
    }
   ],
   "source": [
    "import string \n",
    "\n",
    "src_str = string.ascii_lowercase\n",
    "dst_str = src_str[1:] + src_str[:1]\n",
    "\n",
    "print('dst_str = ',dst_str)"
   ]
  }
 ],
 "metadata": {
  "kernelspec": {
   "display_name": "Python 3",
   "language": "python",
   "name": "python3"
  },
  "language_info": {
   "codemirror_mode": {
    "name": "ipython",
    "version": 3
   },
   "file_extension": ".py",
   "mimetype": "text/x-python",
   "name": "python",
   "nbconvert_exporter": "python",
   "pygments_lexer": "ipython3",
   "version": "3.11.2"
  }
 },
 "nbformat": 4,
 "nbformat_minor": 2
}
