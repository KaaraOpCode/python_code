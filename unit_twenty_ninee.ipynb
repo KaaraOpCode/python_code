{
 "cells": [
  {
   "cell_type": "markdown",
   "metadata": {},
   "source": [
    "Pair Programming"
   ]
  },
  {
   "cell_type": "code",
   "execution_count": 3,
   "metadata": {},
   "outputs": [
    {
     "name": "stdout",
     "output_type": "stream",
     "text": [
      "Merged into: [1, 2, 3, 3, 4, 5, 7, 9]\n"
     ]
    }
   ],
   "source": [
    "def merge_sort(lists):\n",
    "    # Base case: if there's only one list, return it\n",
    "    if len(lists) == 1:\n",
    "        return lists[0]\n",
    "    \n",
    "    # Recursive case: split the list of lists into two halves and merge sort each half\n",
    "    mid = len(lists) // 2\n",
    "    left = merge_sort(lists[:mid])\n",
    "    right = merge_sort(lists[mid:])\n",
    "    \n",
    "    # Merge the two sorted halves\n",
    "    return merge(left, right)\n",
    "\n",
    "def merge(list1, list2):\n",
    "    merged_list = []\n",
    "    i = j = 0\n",
    "    \n",
    "    # Merge the two lists by comparing their elements\n",
    "    while i < len(list1) and j < len(list2):\n",
    "        if list1[i] < list2[j]:\n",
    "            merged_list.append(list1[i])\n",
    "            i += 1\n",
    "        else:\n",
    "            merged_list.append(list2[j])\n",
    "            j += 1\n",
    "    \n",
    "    # Append any remaining elements from list1 or list2\n",
    "    merged_list.extend(list1[i:])\n",
    "    merged_list.extend(list2[j:])\n",
    "    \n",
    "    return merged_list\n",
    "\n",
    "N = int(input(\"Input the number of lists: \"))\n",
    "list_of_nums = []\n",
    "for i in range(N):\n",
    "    nums = list(map(int, input(\"Input a list of numbers: \").split()))\n",
    "    list_of_nums.append(nums)\n",
    "\n",
    "sorted_list = merge_sort(list_of_nums)\n",
    "print(\"Merged into:\", sorted_list)\n"
   ]
  }
 ],
 "metadata": {
  "kernelspec": {
   "display_name": "Python 3",
   "language": "python",
   "name": "python3"
  },
  "language_info": {
   "codemirror_mode": {
    "name": "ipython",
    "version": 3
   },
   "file_extension": ".py",
   "mimetype": "text/x-python",
   "name": "python",
   "nbconvert_exporter": "python",
   "pygments_lexer": "ipython3",
   "version": "3.12.3"
  }
 },
 "nbformat": 4,
 "nbformat_minor": 2
}
