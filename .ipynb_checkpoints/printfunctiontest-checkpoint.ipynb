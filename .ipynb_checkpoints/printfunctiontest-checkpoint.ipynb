{
 "cells": [
  {
   "cell_type": "code",
   "execution_count": 10,
   "id": "1c149f41-c497-4e7b-b540-d434b4001e13",
   "metadata": {},
   "outputs": [
    {
     "name": "stdout",
     "output_type": "stream",
     "text": [
      "hello world name"
     ]
    }
   ],
   "source": [
    "print(\"hello world\", \"name\", end = \"\")"
   ]
  },
  {
   "cell_type": "code",
   "execution_count": 12,
   "id": "f9f50a51-3799-4cc2-923b-1a9d412b3c22",
   "metadata": {},
   "outputs": [
    {
     "name": "stdin",
     "output_type": "stream",
     "text": [
      "enter name:  kaara\n"
     ]
    },
    {
     "name": "stdout",
     "output_type": "stream",
     "text": [
      "thanks kaara and bye!"
     ]
    }
   ],
   "source": [
    "print(\"thanks\", input(\"enter name: \"), \"and bye!\", end =\"\")"
   ]
  },
  {
   "cell_type": "code",
   "execution_count": null,
   "id": "2454babd-bfba-40f7-b503-d9ae6b101e4a",
   "metadata": {},
   "outputs": [],
   "source": []
  }
 ],
 "metadata": {
  "kernelspec": {
   "display_name": "Python 3 (ipykernel)",
   "language": "python",
   "name": "python3"
  },
  "language_info": {
   "codemirror_mode": {
    "name": "ipython",
    "version": 3
   },
   "file_extension": ".py",
   "mimetype": "text/x-python",
   "name": "python",
   "nbconvert_exporter": "python",
   "pygments_lexer": "ipython3",
   "version": "3.11.7"
  }
 },
 "nbformat": 4,
 "nbformat_minor": 5
}
